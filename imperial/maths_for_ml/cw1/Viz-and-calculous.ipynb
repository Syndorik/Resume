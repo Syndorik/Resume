{
 "cells": [
  {
   "cell_type": "code",
   "execution_count": 3,
   "metadata": {},
   "outputs": [
    {
     "data": {
      "application/javascript": [
       "\n",
       "            setTimeout(function() {\n",
       "                var nbb_cell_id = 3;\n",
       "                var nbb_formatted_code = \"%load_ext nb_black\";\n",
       "                var nbb_cells = Jupyter.notebook.get_cells();\n",
       "                for (var i = 0; i < nbb_cells.length; ++i) {\n",
       "                    if (nbb_cells[i].input_prompt_number == nbb_cell_id) {\n",
       "                        nbb_cells[i].set_text(nbb_formatted_code);\n",
       "                        break;\n",
       "                    }\n",
       "                }\n",
       "            }, 500);\n",
       "            "
      ],
      "text/plain": [
       "<IPython.core.display.Javascript object>"
      ]
     },
     "metadata": {},
     "output_type": "display_data"
    }
   ],
   "source": [
    "%load_ext nb_black"
   ]
  },
  {
   "cell_type": "code",
   "execution_count": 4,
   "metadata": {},
   "outputs": [
    {
     "data": {
      "application/javascript": [
       "\n",
       "            setTimeout(function() {\n",
       "                var nbb_cell_id = 4;\n",
       "                var nbb_formatted_code = \"import numpy as np\\nimport random as rd\\nimport matplotlib.pyplot as plt\\nfrom matplotlib.gridspec import GridSpec\\nfrom scipy.special import gamma\\nfrom scipy.stats import norm\";\n",
       "                var nbb_cells = Jupyter.notebook.get_cells();\n",
       "                for (var i = 0; i < nbb_cells.length; ++i) {\n",
       "                    if (nbb_cells[i].input_prompt_number == nbb_cell_id) {\n",
       "                        nbb_cells[i].set_text(nbb_formatted_code);\n",
       "                        break;\n",
       "                    }\n",
       "                }\n",
       "            }, 500);\n",
       "            "
      ],
      "text/plain": [
       "<IPython.core.display.Javascript object>"
      ]
     },
     "metadata": {},
     "output_type": "display_data"
    }
   ],
   "source": [
    "import numpy as np\n",
    "import random as rd\n",
    "import matplotlib.pyplot as plt\n",
    "from matplotlib.gridspec import GridSpec\n",
    "from scipy.special import gamma\n",
    "from scipy.stats import norm"
   ]
  },
  {
   "cell_type": "markdown",
   "metadata": {},
   "source": [
    "# 1/"
   ]
  },
  {
   "cell_type": "code",
   "execution_count": 5,
   "metadata": {},
   "outputs": [
    {
     "data": {
      "application/javascript": [
       "\n",
       "            setTimeout(function() {\n",
       "                var nbb_cell_id = 5;\n",
       "                var nbb_formatted_code = \"d1 = np.matrix([1, 2, 3]).transpose()\\nd2 = np.matrix([-1, 0, 0]).transpose()\\nd3 = np.matrix([-4, 4, 2]).transpose()\";\n",
       "                var nbb_cells = Jupyter.notebook.get_cells();\n",
       "                for (var i = 0; i < nbb_cells.length; ++i) {\n",
       "                    if (nbb_cells[i].input_prompt_number == nbb_cell_id) {\n",
       "                        nbb_cells[i].set_text(nbb_formatted_code);\n",
       "                        break;\n",
       "                    }\n",
       "                }\n",
       "            }, 500);\n",
       "            "
      ],
      "text/plain": [
       "<IPython.core.display.Javascript object>"
      ]
     },
     "metadata": {},
     "output_type": "display_data"
    }
   ],
   "source": [
    "d1 = np.matrix([1, 2, 3]).transpose()\n",
    "d2 = np.matrix([-1, 0, 0]).transpose()\n",
    "d3 = np.matrix([-4, 4, 2]).transpose()"
   ]
  },
  {
   "cell_type": "code",
   "execution_count": 6,
   "metadata": {},
   "outputs": [
    {
     "data": {
      "application/javascript": [
       "\n",
       "            setTimeout(function() {\n",
       "                var nbb_cell_id = 6;\n",
       "                var nbb_formatted_code = \"D = np.concatenate((d1, d2, d3), axis=1)\";\n",
       "                var nbb_cells = Jupyter.notebook.get_cells();\n",
       "                for (var i = 0; i < nbb_cells.length; ++i) {\n",
       "                    if (nbb_cells[i].input_prompt_number == nbb_cell_id) {\n",
       "                        nbb_cells[i].set_text(nbb_formatted_code);\n",
       "                        break;\n",
       "                    }\n",
       "                }\n",
       "            }, 500);\n",
       "            "
      ],
      "text/plain": [
       "<IPython.core.display.Javascript object>"
      ]
     },
     "metadata": {},
     "output_type": "display_data"
    }
   ],
   "source": [
    "D = np.concatenate((d1, d2, d3), axis=1)"
   ]
  },
  {
   "cell_type": "code",
   "execution_count": 7,
   "metadata": {},
   "outputs": [
    {
     "name": "stdout",
     "output_type": "stream",
     "text": [
      "expected = [[-1.33333333]\n",
      " [ 2.        ]\n",
      " [ 1.66666667]]\n"
     ]
    },
    {
     "data": {
      "application/javascript": [
       "\n",
       "            setTimeout(function() {\n",
       "                var nbb_cell_id = 7;\n",
       "                var nbb_formatted_code = \"mu = np.mean(D, axis=1)\\nprint(\\\"expected = \\\" + str(mu))\";\n",
       "                var nbb_cells = Jupyter.notebook.get_cells();\n",
       "                for (var i = 0; i < nbb_cells.length; ++i) {\n",
       "                    if (nbb_cells[i].input_prompt_number == nbb_cell_id) {\n",
       "                        nbb_cells[i].set_text(nbb_formatted_code);\n",
       "                        break;\n",
       "                    }\n",
       "                }\n",
       "            }, 500);\n",
       "            "
      ],
      "text/plain": [
       "<IPython.core.display.Javascript object>"
      ]
     },
     "metadata": {},
     "output_type": "display_data"
    }
   ],
   "source": [
    "mu = np.mean(D, axis=1)\n",
    "print(\"expected = \" + str(mu))"
   ]
  },
  {
   "cell_type": "code",
   "execution_count": 8,
   "metadata": {},
   "outputs": [
    {
     "data": {
      "text/plain": [
       "matrix([[-2.66666667],\n",
       "        [ 2.        ],\n",
       "        [ 0.33333333]])"
      ]
     },
     "execution_count": 8,
     "metadata": {},
     "output_type": "execute_result"
    },
    {
     "data": {
      "application/javascript": [
       "\n",
       "            setTimeout(function() {\n",
       "                var nbb_cell_id = 8;\n",
       "                var nbb_formatted_code = \"(d3 - mu)\";\n",
       "                var nbb_cells = Jupyter.notebook.get_cells();\n",
       "                for (var i = 0; i < nbb_cells.length; ++i) {\n",
       "                    if (nbb_cells[i].input_prompt_number == nbb_cell_id) {\n",
       "                        nbb_cells[i].set_text(nbb_formatted_code);\n",
       "                        break;\n",
       "                    }\n",
       "                }\n",
       "            }, 500);\n",
       "            "
      ],
      "text/plain": [
       "<IPython.core.display.Javascript object>"
      ]
     },
     "metadata": {},
     "output_type": "display_data"
    }
   ],
   "source": [
    "(d3 - mu)"
   ]
  },
  {
   "cell_type": "code",
   "execution_count": 9,
   "metadata": {},
   "outputs": [
    {
     "data": {
      "text/plain": [
       "matrix([[ 0.33333333],\n",
       "        [-2.        ],\n",
       "        [-1.66666667]])"
      ]
     },
     "execution_count": 9,
     "metadata": {},
     "output_type": "execute_result"
    },
    {
     "data": {
      "application/javascript": [
       "\n",
       "            setTimeout(function() {\n",
       "                var nbb_cell_id = 9;\n",
       "                var nbb_formatted_code = \"(d2 - mu)\";\n",
       "                var nbb_cells = Jupyter.notebook.get_cells();\n",
       "                for (var i = 0; i < nbb_cells.length; ++i) {\n",
       "                    if (nbb_cells[i].input_prompt_number == nbb_cell_id) {\n",
       "                        nbb_cells[i].set_text(nbb_formatted_code);\n",
       "                        break;\n",
       "                    }\n",
       "                }\n",
       "            }, 500);\n",
       "            "
      ],
      "text/plain": [
       "<IPython.core.display.Javascript object>"
      ]
     },
     "metadata": {},
     "output_type": "display_data"
    }
   ],
   "source": [
    "(d2 - mu)"
   ]
  },
  {
   "cell_type": "code",
   "execution_count": 10,
   "metadata": {},
   "outputs": [
    {
     "data": {
      "text/plain": [
       "matrix([[2.33333333],\n",
       "        [0.        ],\n",
       "        [1.33333333]])"
      ]
     },
     "execution_count": 10,
     "metadata": {},
     "output_type": "execute_result"
    },
    {
     "data": {
      "application/javascript": [
       "\n",
       "            setTimeout(function() {\n",
       "                var nbb_cell_id = 10;\n",
       "                var nbb_formatted_code = \"(d1 - mu)\";\n",
       "                var nbb_cells = Jupyter.notebook.get_cells();\n",
       "                for (var i = 0; i < nbb_cells.length; ++i) {\n",
       "                    if (nbb_cells[i].input_prompt_number == nbb_cell_id) {\n",
       "                        nbb_cells[i].set_text(nbb_formatted_code);\n",
       "                        break;\n",
       "                    }\n",
       "                }\n",
       "            }, 500);\n",
       "            "
      ],
      "text/plain": [
       "<IPython.core.display.Javascript object>"
      ]
     },
     "metadata": {},
     "output_type": "display_data"
    }
   ],
   "source": [
    "(d1 - mu)"
   ]
  },
  {
   "cell_type": "code",
   "execution_count": 11,
   "metadata": {},
   "outputs": [
    {
     "data": {
      "text/plain": [
       "matrix([[ 7.11111111, -5.33333333, -0.88888889],\n",
       "        [-5.33333333,  4.        ,  0.66666667],\n",
       "        [-0.88888889,  0.66666667,  0.11111111]])"
      ]
     },
     "execution_count": 11,
     "metadata": {},
     "output_type": "execute_result"
    },
    {
     "data": {
      "application/javascript": [
       "\n",
       "            setTimeout(function() {\n",
       "                var nbb_cell_id = 11;\n",
       "                var nbb_formatted_code = \"(d3 - mu) * (d3 - mu).transpose()\";\n",
       "                var nbb_cells = Jupyter.notebook.get_cells();\n",
       "                for (var i = 0; i < nbb_cells.length; ++i) {\n",
       "                    if (nbb_cells[i].input_prompt_number == nbb_cell_id) {\n",
       "                        nbb_cells[i].set_text(nbb_formatted_code);\n",
       "                        break;\n",
       "                    }\n",
       "                }\n",
       "            }, 500);\n",
       "            "
      ],
      "text/plain": [
       "<IPython.core.display.Javascript object>"
      ]
     },
     "metadata": {},
     "output_type": "display_data"
    }
   ],
   "source": [
    "(d3 - mu) * (d3 - mu).transpose()"
   ]
  },
  {
   "cell_type": "code",
   "execution_count": 12,
   "metadata": {},
   "outputs": [
    {
     "data": {
      "text/plain": [
       "matrix([[ 0.11111111, -0.66666667, -0.55555556],\n",
       "        [-0.66666667,  4.        ,  3.33333333],\n",
       "        [-0.55555556,  3.33333333,  2.77777778]])"
      ]
     },
     "execution_count": 12,
     "metadata": {},
     "output_type": "execute_result"
    },
    {
     "data": {
      "application/javascript": [
       "\n",
       "            setTimeout(function() {\n",
       "                var nbb_cell_id = 12;\n",
       "                var nbb_formatted_code = \"(d2 - mu) * (d2 - mu).transpose()\";\n",
       "                var nbb_cells = Jupyter.notebook.get_cells();\n",
       "                for (var i = 0; i < nbb_cells.length; ++i) {\n",
       "                    if (nbb_cells[i].input_prompt_number == nbb_cell_id) {\n",
       "                        nbb_cells[i].set_text(nbb_formatted_code);\n",
       "                        break;\n",
       "                    }\n",
       "                }\n",
       "            }, 500);\n",
       "            "
      ],
      "text/plain": [
       "<IPython.core.display.Javascript object>"
      ]
     },
     "metadata": {},
     "output_type": "display_data"
    }
   ],
   "source": [
    "(d2 - mu) * (d2 - mu).transpose()"
   ]
  },
  {
   "cell_type": "code",
   "execution_count": 13,
   "metadata": {},
   "outputs": [
    {
     "data": {
      "text/plain": [
       "matrix([[5.44444444, 0.        , 3.11111111],\n",
       "        [0.        , 0.        , 0.        ],\n",
       "        [3.11111111, 0.        , 1.77777778]])"
      ]
     },
     "execution_count": 13,
     "metadata": {},
     "output_type": "execute_result"
    },
    {
     "data": {
      "application/javascript": [
       "\n",
       "            setTimeout(function() {\n",
       "                var nbb_cell_id = 13;\n",
       "                var nbb_formatted_code = \"(d1 - mu) * (d1 - mu).transpose()\";\n",
       "                var nbb_cells = Jupyter.notebook.get_cells();\n",
       "                for (var i = 0; i < nbb_cells.length; ++i) {\n",
       "                    if (nbb_cells[i].input_prompt_number == nbb_cell_id) {\n",
       "                        nbb_cells[i].set_text(nbb_formatted_code);\n",
       "                        break;\n",
       "                    }\n",
       "                }\n",
       "            }, 500);\n",
       "            "
      ],
      "text/plain": [
       "<IPython.core.display.Javascript object>"
      ]
     },
     "metadata": {},
     "output_type": "display_data"
    }
   ],
   "source": [
    "(d1 - mu) * (d1 - mu).transpose()"
   ]
  },
  {
   "cell_type": "code",
   "execution_count": 14,
   "metadata": {},
   "outputs": [
    {
     "data": {
      "text/plain": [
       "matrix([[12.66666667, -6.        ,  1.66666667],\n",
       "        [-6.        ,  8.        ,  4.        ],\n",
       "        [ 1.66666667,  4.        ,  4.66666667]])"
      ]
     },
     "execution_count": 14,
     "metadata": {},
     "output_type": "execute_result"
    },
    {
     "data": {
      "application/javascript": [
       "\n",
       "            setTimeout(function() {\n",
       "                var nbb_cell_id = 14;\n",
       "                var nbb_formatted_code = \"(d3 - mu) * (d3 - mu).transpose() + (d2 - mu) * (d2 - mu).transpose() + (d1 - mu) * (\\n    d1 - mu\\n).transpose()\";\n",
       "                var nbb_cells = Jupyter.notebook.get_cells();\n",
       "                for (var i = 0; i < nbb_cells.length; ++i) {\n",
       "                    if (nbb_cells[i].input_prompt_number == nbb_cell_id) {\n",
       "                        nbb_cells[i].set_text(nbb_formatted_code);\n",
       "                        break;\n",
       "                    }\n",
       "                }\n",
       "            }, 500);\n",
       "            "
      ],
      "text/plain": [
       "<IPython.core.display.Javascript object>"
      ]
     },
     "metadata": {},
     "output_type": "display_data"
    }
   ],
   "source": [
    "(d3 - mu) * (d3 - mu).transpose() + (d2 - mu) * (d2 - mu).transpose() + (d1 - mu) * (\n",
    "    d1 - mu\n",
    ").transpose()"
   ]
  },
  {
   "cell_type": "code",
   "execution_count": 15,
   "metadata": {},
   "outputs": [
    {
     "data": {
      "text/plain": [
       "matrix([[ 4.22222222, -2.        ,  0.55555556],\n",
       "        [-2.        ,  2.66666667,  1.33333333],\n",
       "        [ 0.55555556,  1.33333333,  1.55555556]])"
      ]
     },
     "execution_count": 15,
     "metadata": {},
     "output_type": "execute_result"
    },
    {
     "data": {
      "application/javascript": [
       "\n",
       "            setTimeout(function() {\n",
       "                var nbb_cell_id = 15;\n",
       "                var nbb_formatted_code = \"1 / 3 * (\\n    (d3 - mu) * (d3 - mu).transpose()\\n    + (d2 - mu) * (d2 - mu).transpose()\\n    + (d1 - mu) * (d1 - mu).transpose()\\n)\";\n",
       "                var nbb_cells = Jupyter.notebook.get_cells();\n",
       "                for (var i = 0; i < nbb_cells.length; ++i) {\n",
       "                    if (nbb_cells[i].input_prompt_number == nbb_cell_id) {\n",
       "                        nbb_cells[i].set_text(nbb_formatted_code);\n",
       "                        break;\n",
       "                    }\n",
       "                }\n",
       "            }, 500);\n",
       "            "
      ],
      "text/plain": [
       "<IPython.core.display.Javascript object>"
      ]
     },
     "metadata": {},
     "output_type": "display_data"
    }
   ],
   "source": [
    "1 / 3 * (\n",
    "    (d3 - mu) * (d3 - mu).transpose()\n",
    "    + (d2 - mu) * (d2 - mu).transpose()\n",
    "    + (d1 - mu) * (d1 - mu).transpose()\n",
    ")"
   ]
  },
  {
   "cell_type": "code",
   "execution_count": 16,
   "metadata": {},
   "outputs": [
    {
     "data": {
      "text/plain": [
       "array([[ 4.22222222, -2.        ,  0.55555556],\n",
       "       [-2.        ,  2.66666667,  1.33333333],\n",
       "       [ 0.55555556,  1.33333333,  1.55555556]])"
      ]
     },
     "execution_count": 16,
     "metadata": {},
     "output_type": "execute_result"
    },
    {
     "data": {
      "application/javascript": [
       "\n",
       "            setTimeout(function() {\n",
       "                var nbb_cell_id = 16;\n",
       "                var nbb_formatted_code = \"np.cov(D, bias=len(D))\";\n",
       "                var nbb_cells = Jupyter.notebook.get_cells();\n",
       "                for (var i = 0; i < nbb_cells.length; ++i) {\n",
       "                    if (nbb_cells[i].input_prompt_number == nbb_cell_id) {\n",
       "                        nbb_cells[i].set_text(nbb_formatted_code);\n",
       "                        break;\n",
       "                    }\n",
       "                }\n",
       "            }, 500);\n",
       "            "
      ],
      "text/plain": [
       "<IPython.core.display.Javascript object>"
      ]
     },
     "metadata": {},
     "output_type": "display_data"
    }
   ],
   "source": [
    "np.cov(D, bias=len(D))"
   ]
  },
  {
   "cell_type": "markdown",
   "metadata": {},
   "source": [
    "## 2/ "
   ]
  },
  {
   "cell_type": "code",
   "execution_count": 17,
   "metadata": {},
   "outputs": [
    {
     "data": {
      "application/javascript": [
       "\n",
       "            setTimeout(function() {\n",
       "                var nbb_cell_id = 17;\n",
       "                var nbb_formatted_code = \"s1 = 2\\ns2 = 0.5\\nu1 = -1\\nu2 = 1\";\n",
       "                var nbb_cells = Jupyter.notebook.get_cells();\n",
       "                for (var i = 0; i < nbb_cells.length; ++i) {\n",
       "                    if (nbb_cells[i].input_prompt_number == nbb_cell_id) {\n",
       "                        nbb_cells[i].set_text(nbb_formatted_code);\n",
       "                        break;\n",
       "                    }\n",
       "                }\n",
       "            }, 500);\n",
       "            "
      ],
      "text/plain": [
       "<IPython.core.display.Javascript object>"
      ]
     },
     "metadata": {},
     "output_type": "display_data"
    }
   ],
   "source": [
    "s1 = 2\n",
    "s2 = 0.5\n",
    "u1 = -1\n",
    "u2 = 1"
   ]
  },
  {
   "cell_type": "code",
   "execution_count": 18,
   "metadata": {},
   "outputs": [
    {
     "data": {
      "application/javascript": [
       "\n",
       "            setTimeout(function() {\n",
       "                var nbb_cell_id = 18;\n",
       "                var nbb_formatted_code = \"def generate_dataset_uniform(xmin, xmax):\\n    X1 = [rd.randint(xmin, xmax) for k in range(1000)]\\n    X2 = [rd.randint(xmin, xmax) for k in range(1000)]\\n\\n    var1 = np.var(X1)\\n    mean1 = np.mean(X1)\\n    var2 = np.var(X2)\\n    mean2 = np.mean(X2)\\n\\n    Z1 = [s1 / (var1 ** (1 / 2)) * (x - mean1) + u1 for x in X1]\\n    Z2 = [s2 / (var2 ** (1 / 2)) * (x - mean2) + u2 for x in X2]\\n    print(\\\"Mean of Z1 : {} and Var of Z1 : {}\\\".format(np.mean(Z1), np.sqrt(np.var(Z1))))\\n    print(\\\"Mean of Z2 : {} and Var of Z2 : {}\\\".format(np.mean(Z2), np.sqrt(np.var(Z2))))\\n\\n    return Z1, Z2\";\n",
       "                var nbb_cells = Jupyter.notebook.get_cells();\n",
       "                for (var i = 0; i < nbb_cells.length; ++i) {\n",
       "                    if (nbb_cells[i].input_prompt_number == nbb_cell_id) {\n",
       "                        nbb_cells[i].set_text(nbb_formatted_code);\n",
       "                        break;\n",
       "                    }\n",
       "                }\n",
       "            }, 500);\n",
       "            "
      ],
      "text/plain": [
       "<IPython.core.display.Javascript object>"
      ]
     },
     "metadata": {},
     "output_type": "display_data"
    }
   ],
   "source": [
    "def generate_dataset_uniform(xmin, xmax):\n",
    "    X1 = [rd.randint(xmin, xmax) for k in range(1000)]\n",
    "    X2 = [rd.randint(xmin, xmax) for k in range(1000)]\n",
    "\n",
    "    var1 = np.var(X1)\n",
    "    mean1 = np.mean(X1)\n",
    "    var2 = np.var(X2)\n",
    "    mean2 = np.mean(X2)\n",
    "\n",
    "    Z1 = [s1 / (var1 ** (1 / 2)) * (x - mean1) + u1 for x in X1]\n",
    "    Z2 = [s2 / (var2 ** (1 / 2)) * (x - mean2) + u2 for x in X2]\n",
    "    print(\"Mean of Z1 : {} and Var of Z1 : {}\".format(np.mean(Z1), np.sqrt(np.var(Z1))))\n",
    "    print(\"Mean of Z2 : {} and Var of Z2 : {}\".format(np.mean(Z2), np.sqrt(np.var(Z2))))\n",
    "\n",
    "    return Z1, Z2"
   ]
  },
  {
   "cell_type": "code",
   "execution_count": 19,
   "metadata": {},
   "outputs": [
    {
     "name": "stdout",
     "output_type": "stream",
     "text": [
      "Mean of Z1 : -0.9999999999999999 and Var of Z1 : 2.0\n",
      "Mean of Z2 : 1.0000000000000002 and Var of Z2 : 0.49999999999999994\n"
     ]
    },
    {
     "data": {
      "application/javascript": [
       "\n",
       "            setTimeout(function() {\n",
       "                var nbb_cell_id = 19;\n",
       "                var nbb_formatted_code = \"D1 = generate_dataset_uniform(-10, 40)\";\n",
       "                var nbb_cells = Jupyter.notebook.get_cells();\n",
       "                for (var i = 0; i < nbb_cells.length; ++i) {\n",
       "                    if (nbb_cells[i].input_prompt_number == nbb_cell_id) {\n",
       "                        nbb_cells[i].set_text(nbb_formatted_code);\n",
       "                        break;\n",
       "                    }\n",
       "                }\n",
       "            }, 500);\n",
       "            "
      ],
      "text/plain": [
       "<IPython.core.display.Javascript object>"
      ]
     },
     "metadata": {},
     "output_type": "display_data"
    }
   ],
   "source": [
    "D1 = generate_dataset_uniform(-10, 40)"
   ]
  },
  {
   "cell_type": "code",
   "execution_count": 20,
   "metadata": {},
   "outputs": [
    {
     "data": {
      "application/javascript": [
       "\n",
       "            setTimeout(function() {\n",
       "                var nbb_cell_id = 20;\n",
       "                var nbb_formatted_code = \"def generate_dataset_normal():\\n    Z1 = np.random.normal(u1, s1, 1000)\\n    Z2 = np.random.normal(u2, s2, 1000)\\n\\n    print(\\\"Mean of Z1 : {} and Var of Z1 : {}\\\".format(np.mean(Z1), np.sqrt(np.var(Z1))))\\n    print(\\\"Mean of Z2 : {} and Var of Z2 : {}\\\".format(np.mean(Z2), np.sqrt(np.var(Z2))))\\n\\n    return Z1, Z2\";\n",
       "                var nbb_cells = Jupyter.notebook.get_cells();\n",
       "                for (var i = 0; i < nbb_cells.length; ++i) {\n",
       "                    if (nbb_cells[i].input_prompt_number == nbb_cell_id) {\n",
       "                        nbb_cells[i].set_text(nbb_formatted_code);\n",
       "                        break;\n",
       "                    }\n",
       "                }\n",
       "            }, 500);\n",
       "            "
      ],
      "text/plain": [
       "<IPython.core.display.Javascript object>"
      ]
     },
     "metadata": {},
     "output_type": "display_data"
    }
   ],
   "source": [
    "def generate_dataset_normal():\n",
    "    Z1 = np.random.normal(u1, s1, 1000)\n",
    "    Z2 = np.random.normal(u2, s2, 1000)\n",
    "\n",
    "    print(\"Mean of Z1 : {} and Var of Z1 : {}\".format(np.mean(Z1), np.sqrt(np.var(Z1))))\n",
    "    print(\"Mean of Z2 : {} and Var of Z2 : {}\".format(np.mean(Z2), np.sqrt(np.var(Z2))))\n",
    "\n",
    "    return Z1, Z2"
   ]
  },
  {
   "cell_type": "code",
   "execution_count": 21,
   "metadata": {},
   "outputs": [
    {
     "name": "stdout",
     "output_type": "stream",
     "text": [
      "Mean of Z1 : -0.9962654491996552 and Var of Z1 : 1.9623661986646708\n",
      "Mean of Z2 : 1.017221960908029 and Var of Z2 : 0.5115827192465562\n"
     ]
    },
    {
     "data": {
      "application/javascript": [
       "\n",
       "            setTimeout(function() {\n",
       "                var nbb_cell_id = 21;\n",
       "                var nbb_formatted_code = \"D2 = generate_dataset_normal()\";\n",
       "                var nbb_cells = Jupyter.notebook.get_cells();\n",
       "                for (var i = 0; i < nbb_cells.length; ++i) {\n",
       "                    if (nbb_cells[i].input_prompt_number == nbb_cell_id) {\n",
       "                        nbb_cells[i].set_text(nbb_formatted_code);\n",
       "                        break;\n",
       "                    }\n",
       "                }\n",
       "            }, 500);\n",
       "            "
      ],
      "text/plain": [
       "<IPython.core.display.Javascript object>"
      ]
     },
     "metadata": {},
     "output_type": "display_data"
    }
   ],
   "source": [
    "D2 = generate_dataset_normal()"
   ]
  },
  {
   "cell_type": "code",
   "execution_count": 22,
   "metadata": {},
   "outputs": [
    {
     "data": {
      "application/javascript": [
       "\n",
       "            setTimeout(function() {\n",
       "                var nbb_cell_id = 22;\n",
       "                var nbb_formatted_code = \"def gaussian(x, mu, sig):\\n    return np.exp(-np.power(x - mu, 2.0) / (2 * np.power(sig, 2.0)))\";\n",
       "                var nbb_cells = Jupyter.notebook.get_cells();\n",
       "                for (var i = 0; i < nbb_cells.length; ++i) {\n",
       "                    if (nbb_cells[i].input_prompt_number == nbb_cell_id) {\n",
       "                        nbb_cells[i].set_text(nbb_formatted_code);\n",
       "                        break;\n",
       "                    }\n",
       "                }\n",
       "            }, 500);\n",
       "            "
      ],
      "text/plain": [
       "<IPython.core.display.Javascript object>"
      ]
     },
     "metadata": {},
     "output_type": "display_data"
    }
   ],
   "source": [
    "def gaussian(x, mu, sig):\n",
    "    return np.exp(-np.power(x - mu, 2.0) / (2 * np.power(sig, 2.0)))"
   ]
  },
  {
   "cell_type": "code",
   "execution_count": 23,
   "metadata": {},
   "outputs": [
    {
     "data": {
      "application/javascript": [
       "\n",
       "            setTimeout(function() {\n",
       "                var nbb_cell_id = 23;\n",
       "                var nbb_formatted_code = \"x_gaussian_1 = [k / 100 for k in range(-800, 800)]\\ny_gaussian_1 = norm(u1, s1).pdf(x_gaussian_1)\\ny_gaussian_2 = [k / 100 for k in range(-800, 800)]\\nx_gaussian_2 = norm(u2, s2).pdf(y_gaussian_2)\";\n",
       "                var nbb_cells = Jupyter.notebook.get_cells();\n",
       "                for (var i = 0; i < nbb_cells.length; ++i) {\n",
       "                    if (nbb_cells[i].input_prompt_number == nbb_cell_id) {\n",
       "                        nbb_cells[i].set_text(nbb_formatted_code);\n",
       "                        break;\n",
       "                    }\n",
       "                }\n",
       "            }, 500);\n",
       "            "
      ],
      "text/plain": [
       "<IPython.core.display.Javascript object>"
      ]
     },
     "metadata": {},
     "output_type": "display_data"
    }
   ],
   "source": [
    "x_gaussian_1 = [k / 100 for k in range(-800, 800)]\n",
    "y_gaussian_1 = norm(u1, s1).pdf(x_gaussian_1)\n",
    "y_gaussian_2 = [k / 100 for k in range(-800, 800)]\n",
    "x_gaussian_2 = norm(u2, s2).pdf(y_gaussian_2)"
   ]
  },
  {
   "cell_type": "markdown",
   "metadata": {},
   "source": [
    "#### Check if means and var as predicted"
   ]
  },
  {
   "cell_type": "code",
   "execution_count": 34,
   "metadata": {},
   "outputs": [
    {
     "data": {
      "image/png": "[encoded data removed]",
      "text/plain": [
       "<Figure size 1080x1080 with 3 Axes>"
      ]
     },
     "metadata": {
      "needs_background": "light"
     },
     "output_type": "display_data"
    },
    {
     "data": {
      "application/javascript": [
       "\n",
       "            setTimeout(function() {\n",
       "                var nbb_cell_id = 34;\n",
       "                var nbb_formatted_code = \"# fig, ax = plt.subplots()\\nfig = plt.figure(figsize=(15, 15))\\n\\ngs = GridSpec(4, 4)\\n\\nax_joint = fig.add_subplot(gs[1:4, 0:3])\\nax_marg_x = fig.add_subplot(gs[0, 0:3])\\nax_marg_y = fig.add_subplot(gs[1:4, 3])\\n\\nax_joint.plot(\\n    D1[0],\\n    D1[1],\\n    \\\"ro\\\",\\n    color=\\\"red\\\",\\n    label=\\\"First Dataset, uniform int distribution in [-10,40]\\\",\\n)\\nax_joint.plot(\\n    D2[0], D2[1], \\\"ro\\\", color=\\\"blue\\\", label=\\\"Second Dataset, gaussian distribution\\\"\\n)\\n\\nax_marg_x.plot(x_gaussian_1, y_gaussian_1, color=\\\"blue\\\")\\nax_marg_y.plot(x_gaussian_2, y_gaussian_2, color=\\\"blue\\\")\\n\\nax_joint.set_ylim(-1, 3)\\nax_joint.set_xlim(-8, 6.5)\\n\\nax_marg_y.set_ylim(-1, 3)\\nax_marg_x.set_xlim(-8, 6.5)\\n\\n\\nax_joint.legend()\\nax_joint.set_xlabel(\\\"X1\\\")\\nax_joint.set_ylabel(\\\"X2\\\")\\n\\n\\nax_marg_x.set_title(\\\"Gaussian pdf with mean={} and sigma={}\\\".format(u1, s1))\\nax_marg_x.set_xlabel(\\\"Value\\\")\\nax_marg_x.set_ylabel(\\\"Probability\\\")\\n\\nax_marg_y.set_title(\\\"Gaussian pdf with mean={} and sigma={}\\\".format(u2, s2))\\nax_marg_y.set_xlabel(\\\"Probability\\\")\\nax_marg_y.set_ylabel(\\\"Value\\\")\\nplt.savefig(\\\"question2\\\")\\nplt.show()\";\n",
       "                var nbb_cells = Jupyter.notebook.get_cells();\n",
       "                for (var i = 0; i < nbb_cells.length; ++i) {\n",
       "                    if (nbb_cells[i].input_prompt_number == nbb_cell_id) {\n",
       "                        nbb_cells[i].set_text(nbb_formatted_code);\n",
       "                        break;\n",
       "                    }\n",
       "                }\n",
       "            }, 500);\n",
       "            "
      ],
      "text/plain": [
       "<IPython.core.display.Javascript object>"
      ]
     },
     "metadata": {},
     "output_type": "display_data"
    }
   ],
   "source": [
    "# fig, ax = plt.subplots()\n",
    "fig = plt.figure(figsize=(15, 15))\n",
    "\n",
    "gs = GridSpec(4, 4)\n",
    "\n",
    "ax_joint = fig.add_subplot(gs[1:4, 0:3])\n",
    "ax_marg_x = fig.add_subplot(gs[0, 0:3])\n",
    "ax_marg_y = fig.add_subplot(gs[1:4, 3])\n",
    "\n",
    "ax_joint.plot(\n",
    "    D1[0],\n",
    "    D1[1],\n",
    "    \"ro\",\n",
    "    color=\"red\",\n",
    "    label=\"First Dataset, uniform int distribution in [-10,40]\",\n",
    ")\n",
    "ax_joint.plot(\n",
    "    D2[0], D2[1], \"ro\", color=\"blue\", label=\"Second Dataset, gaussian distribution\"\n",
    ")\n",
    "\n",
    "ax_marg_x.plot(x_gaussian_1, y_gaussian_1, color=\"blue\")\n",
    "ax_marg_y.plot(x_gaussian_2, y_gaussian_2, color=\"blue\")\n",
    "\n",
    "ax_joint.set_ylim(-1, 3)\n",
    "ax_joint.set_xlim(-8, 6.5)\n",
    "\n",
    "ax_marg_y.set_ylim(-1, 3)\n",
    "ax_marg_x.set_xlim(-8, 6.5)\n",
    "\n",
    "\n",
    "ax_joint.legend()\n",
    "ax_joint.set_xlabel(\"X1\")\n",
    "ax_joint.set_ylabel(\"X2\")\n",
    "\n",
    "\n",
    "ax_marg_x.set_title(\"Gaussian pdf with mean={} and sigma={}\".format(u1, s1))\n",
    "ax_marg_x.set_xlabel(\"Value\")\n",
    "ax_marg_x.set_ylabel(\"Probability\")\n",
    "\n",
    "ax_marg_y.set_title(\"Gaussian pdf with mean={} and sigma={}\".format(u2, s2))\n",
    "ax_marg_y.set_xlabel(\"Probability\")\n",
    "ax_marg_y.set_ylabel(\"Value\")\n",
    "plt.savefig(\"question2\")\n",
    "plt.show()"
   ]
  },
  {
   "cell_type": "markdown",
   "metadata": {},
   "source": [
    "## 3/\n"
   ]
  },
  {
   "cell_type": "code",
   "execution_count": 25,
   "metadata": {},
   "outputs": [
    {
     "data": {
      "application/javascript": [
       "\n",
       "            setTimeout(function() {\n",
       "                var nbb_cell_id = 25;\n",
       "                var nbb_formatted_code = \"alpha = 2\\nbeta = 2\\nN = 20\\nh = 6\";\n",
       "                var nbb_cells = Jupyter.notebook.get_cells();\n",
       "                for (var i = 0; i < nbb_cells.length; ++i) {\n",
       "                    if (nbb_cells[i].input_prompt_number == nbb_cell_id) {\n",
       "                        nbb_cells[i].set_text(nbb_formatted_code);\n",
       "                        break;\n",
       "                    }\n",
       "                }\n",
       "            }, 500);\n",
       "            "
      ],
      "text/plain": [
       "<IPython.core.display.Javascript object>"
      ]
     },
     "metadata": {},
     "output_type": "display_data"
    }
   ],
   "source": [
    "alpha = 2\n",
    "beta = 2\n",
    "N = 20\n",
    "h = 6"
   ]
  },
  {
   "cell_type": "code",
   "execution_count": 26,
   "metadata": {},
   "outputs": [
    {
     "data": {
      "application/javascript": [
       "\n",
       "            setTimeout(function() {\n",
       "                var nbb_cell_id = 26;\n",
       "                var nbb_formatted_code = \"alpha_distrib_post = h + alpha\\nbeta_distrib_post = N - h + beta\\nnorm_factor_post = gamma(alpha_distrib_post + beta_distrib_post) / (\\n    gamma(alpha_distrib_post) * gamma(beta_distrib_post)\\n)\";\n",
       "                var nbb_cells = Jupyter.notebook.get_cells();\n",
       "                for (var i = 0; i < nbb_cells.length; ++i) {\n",
       "                    if (nbb_cells[i].input_prompt_number == nbb_cell_id) {\n",
       "                        nbb_cells[i].set_text(nbb_formatted_code);\n",
       "                        break;\n",
       "                    }\n",
       "                }\n",
       "            }, 500);\n",
       "            "
      ],
      "text/plain": [
       "<IPython.core.display.Javascript object>"
      ]
     },
     "metadata": {},
     "output_type": "display_data"
    }
   ],
   "source": [
    "alpha_distrib_post = h + alpha\n",
    "beta_distrib_post = N - h + beta\n",
    "norm_factor_post = gamma(alpha_distrib_post + beta_distrib_post) / (\n",
    "    gamma(alpha_distrib_post) * gamma(beta_distrib_post)\n",
    ")"
   ]
  },
  {
   "cell_type": "code",
   "execution_count": 27,
   "metadata": {},
   "outputs": [
    {
     "data": {
      "application/javascript": [
       "\n",
       "            setTimeout(function() {\n",
       "                var nbb_cell_id = 27;\n",
       "                var nbb_formatted_code = \"norm_factor_prior = gamma(alpha + beta) / (gamma(alpha) * gamma(beta))\";\n",
       "                var nbb_cells = Jupyter.notebook.get_cells();\n",
       "                for (var i = 0; i < nbb_cells.length; ++i) {\n",
       "                    if (nbb_cells[i].input_prompt_number == nbb_cell_id) {\n",
       "                        nbb_cells[i].set_text(nbb_formatted_code);\n",
       "                        break;\n",
       "                    }\n",
       "                }\n",
       "            }, 500);\n",
       "            "
      ],
      "text/plain": [
       "<IPython.core.display.Javascript object>"
      ]
     },
     "metadata": {},
     "output_type": "display_data"
    }
   ],
   "source": [
    "norm_factor_prior = gamma(alpha + beta) / (gamma(alpha) * gamma(beta))"
   ]
  },
  {
   "cell_type": "code",
   "execution_count": 28,
   "metadata": {},
   "outputs": [
    {
     "data": {
      "application/javascript": [
       "\n",
       "            setTimeout(function() {\n",
       "                var nbb_cell_id = 28;\n",
       "                var nbb_formatted_code = \"def betafunc_posterior(x):\\n    return (\\n        norm_factor_post\\n        * (x ** (alpha_distrib_post - 1))\\n        * ((1 - x) ** (beta_distrib_post - 1))\\n    )\";\n",
       "                var nbb_cells = Jupyter.notebook.get_cells();\n",
       "                for (var i = 0; i < nbb_cells.length; ++i) {\n",
       "                    if (nbb_cells[i].input_prompt_number == nbb_cell_id) {\n",
       "                        nbb_cells[i].set_text(nbb_formatted_code);\n",
       "                        break;\n",
       "                    }\n",
       "                }\n",
       "            }, 500);\n",
       "            "
      ],
      "text/plain": [
       "<IPython.core.display.Javascript object>"
      ]
     },
     "metadata": {},
     "output_type": "display_data"
    }
   ],
   "source": [
    "def betafunc_posterior(x):\n",
    "    return (\n",
    "        norm_factor_post\n",
    "        * (x ** (alpha_distrib_post - 1))\n",
    "        * ((1 - x) ** (beta_distrib_post - 1))\n",
    "    )"
   ]
  },
  {
   "cell_type": "code",
   "execution_count": 29,
   "metadata": {},
   "outputs": [
    {
     "data": {
      "application/javascript": [
       "\n",
       "            setTimeout(function() {\n",
       "                var nbb_cell_id = 29;\n",
       "                var nbb_formatted_code = \"def betafunc_prior(x):\\n    return norm_factor_prior * (x ** (alpha - 1)) * ((1 - x) ** (beta - 1))\";\n",
       "                var nbb_cells = Jupyter.notebook.get_cells();\n",
       "                for (var i = 0; i < nbb_cells.length; ++i) {\n",
       "                    if (nbb_cells[i].input_prompt_number == nbb_cell_id) {\n",
       "                        nbb_cells[i].set_text(nbb_formatted_code);\n",
       "                        break;\n",
       "                    }\n",
       "                }\n",
       "            }, 500);\n",
       "            "
      ],
      "text/plain": [
       "<IPython.core.display.Javascript object>"
      ]
     },
     "metadata": {},
     "output_type": "display_data"
    }
   ],
   "source": [
    "def betafunc_prior(x):\n",
    "    return norm_factor_prior * (x ** (alpha - 1)) * ((1 - x) ** (beta - 1))"
   ]
  },
  {
   "cell_type": "code",
   "execution_count": 30,
   "metadata": {},
   "outputs": [
    {
     "data": {
      "application/javascript": [
       "\n",
       "            setTimeout(function() {\n",
       "                var nbb_cell_id = 30;\n",
       "                var nbb_formatted_code = \"x = [x / 1000 for x in range(0, 1000)]\\nposterior = [betafunc_posterior(x / 1000) for x in range(0, 1000)]\\nprior = [betafunc_prior(x / 1000) for x in range(0, 1000)]\";\n",
       "                var nbb_cells = Jupyter.notebook.get_cells();\n",
       "                for (var i = 0; i < nbb_cells.length; ++i) {\n",
       "                    if (nbb_cells[i].input_prompt_number == nbb_cell_id) {\n",
       "                        nbb_cells[i].set_text(nbb_formatted_code);\n",
       "                        break;\n",
       "                    }\n",
       "                }\n",
       "            }, 500);\n",
       "            "
      ],
      "text/plain": [
       "<IPython.core.display.Javascript object>"
      ]
     },
     "metadata": {},
     "output_type": "display_data"
    }
   ],
   "source": [
    "x = [x / 1000 for x in range(0, 1000)]\n",
    "posterior = [betafunc_posterior(x / 1000) for x in range(0, 1000)]\n",
    "prior = [betafunc_prior(x / 1000) for x in range(0, 1000)]"
   ]
  },
  {
   "cell_type": "markdown",
   "metadata": {},
   "source": [
    "#### Checking calculation"
   ]
  },
  {
   "cell_type": "code",
   "execution_count": 31,
   "metadata": {},
   "outputs": [
    {
     "name": "stdout",
     "output_type": "stream",
     "text": [
      "Posterior's integral : 1.0000000000000002\n",
      "Prior's integral : 0.999996003\n"
     ]
    },
    {
     "data": {
      "application/javascript": [
       "\n",
       "            setTimeout(function() {\n",
       "                var nbb_cell_id = 31;\n",
       "                var nbb_formatted_code = \"print(\\\"Posterior's integral : {}\\\".format(np.trapz(posterior) / 1000))\\nprint(\\\"Prior's integral : {}\\\".format(np.trapz(prior) / 1000))\";\n",
       "                var nbb_cells = Jupyter.notebook.get_cells();\n",
       "                for (var i = 0; i < nbb_cells.length; ++i) {\n",
       "                    if (nbb_cells[i].input_prompt_number == nbb_cell_id) {\n",
       "                        nbb_cells[i].set_text(nbb_formatted_code);\n",
       "                        break;\n",
       "                    }\n",
       "                }\n",
       "            }, 500);\n",
       "            "
      ],
      "text/plain": [
       "<IPython.core.display.Javascript object>"
      ]
     },
     "metadata": {},
     "output_type": "display_data"
    }
   ],
   "source": [
    "print(\"Posterior's integral : {}\".format(np.trapz(posterior) / 1000))\n",
    "print(\"Prior's integral : {}\".format(np.trapz(prior) / 1000))"
   ]
  },
  {
   "cell_type": "markdown",
   "metadata": {},
   "source": [
    "Ok both integral are equal to 1, which is required for probability distribution functions"
   ]
  },
  {
   "cell_type": "code",
   "execution_count": 37,
   "metadata": {},
   "outputs": [
    {
     "data": {
      "image/png": "[encoded data removed]",
      "text/plain": [
       "<Figure size 1080x720 with 1 Axes>"
      ]
     },
     "metadata": {
      "needs_background": "light"
     },
     "output_type": "display_data"
    },
    {
     "data": {
      "application/javascript": [
       "\n",
       "            setTimeout(function() {\n",
       "                var nbb_cell_id = 37;\n",
       "                var nbb_formatted_code = \"fig, ax = plt.subplots(figsize=(15, 10))\\nax.plot(x, posterior, color=\\\"red\\\", label=\\\"Posterior distributrion\\\")\\nax.plot(x, prior, color=\\\"blue\\\", label=\\\"Prior distribution\\\")\\nax.legend()\\nplt.xlabel(\\\"mu\\\")\\nplt.ylabel(\\\"Beta distribution\\\")\\nplt.savefig(\\\"question3\\\")\\nplt.show()\";\n",
       "                var nbb_cells = Jupyter.notebook.get_cells();\n",
       "                for (var i = 0; i < nbb_cells.length; ++i) {\n",
       "                    if (nbb_cells[i].input_prompt_number == nbb_cell_id) {\n",
       "                        nbb_cells[i].set_text(nbb_formatted_code);\n",
       "                        break;\n",
       "                    }\n",
       "                }\n",
       "            }, 500);\n",
       "            "
      ],
      "text/plain": [
       "<IPython.core.display.Javascript object>"
      ]
     },
     "metadata": {},
     "output_type": "display_data"
    }
   ],
   "source": [
    "fig, ax = plt.subplots(figsize=(15, 10))\n",
    "ax.plot(x, posterior, color=\"red\", label=\"Posterior distributrion\")\n",
    "ax.plot(x, prior, color=\"blue\", label=\"Prior distribution\")\n",
    "ax.legend()\n",
    "plt.xlabel(\"mu\")\n",
    "plt.ylabel(\"Beta distribution\")\n",
    "plt.savefig(\"question3\")\n",
    "plt.show()"
   ]
  },
  {
   "cell_type": "markdown",
   "metadata": {},
   "source": [
    "Both mean and variance have changed, indeed, they depend on parameters (https://en.wikipedia.org/wiki/Beta_distribution). That's why their shape is different."
   ]
  },
  {
   "cell_type": "markdown",
   "metadata": {},
   "source": [
    "The variance is lower hence more precise"
   ]
  },
  {
   "cell_type": "code",
   "execution_count": null,
   "metadata": {},
   "outputs": [],
   "source": []
  }
 ],
 "metadata": {
  "kernelspec": {
   "display_name": "Python 3",
   "language": "python",
   "name": "python3"
  },
  "language_info": {
   "codemirror_mode": {
    "name": "ipython",
    "version": 3
   },
   "file_extension": ".py",
   "mimetype": "text/x-python",
   "name": "python",
   "nbconvert_exporter": "python",
   "pygments_lexer": "ipython3",
   "version": "3.6.8"
  }
 },
 "nbformat": 4,
 "nbformat_minor": 2
}
