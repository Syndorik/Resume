{
 "cells": [
  {
   "cell_type": "code",
   "execution_count": 10,
   "metadata": {},
   "outputs": [
    {
     "data": {
      "application/javascript": [
       "\n",
       "            setTimeout(function() {\n",
       "                var nbb_cell_id = 10;\n",
       "                var nbb_formatted_code = \"%load_ext nb_black\";\n",
       "                var nbb_cells = Jupyter.notebook.get_cells();\n",
       "                for (var i = 0; i < nbb_cells.length; ++i) {\n",
       "                    if (nbb_cells[i].input_prompt_number == nbb_cell_id) {\n",
       "                        nbb_cells[i].set_text(nbb_formatted_code);\n",
       "                        break;\n",
       "                    }\n",
       "                }\n",
       "            }, 500);\n",
       "            "
      ],
      "text/plain": [
       "<IPython.core.display.Javascript object>"
      ]
     },
     "metadata": {},
     "output_type": "display_data"
    }
   ],
   "source": [
    "%load_ext nb_black"
   ]
  },
  {
   "cell_type": "code",
   "execution_count": 11,
   "metadata": {},
   "outputs": [
    {
     "data": {
      "application/javascript": [
       "\n",
       "            setTimeout(function() {\n",
       "                var nbb_cell_id = 11;\n",
       "                var nbb_formatted_code = \"import numpy as np\\nimport matplotlib.pyplot as plt\";\n",
       "                var nbb_cells = Jupyter.notebook.get_cells();\n",
       "                for (var i = 0; i < nbb_cells.length; ++i) {\n",
       "                    if (nbb_cells[i].input_prompt_number == nbb_cell_id) {\n",
       "                        nbb_cells[i].set_text(nbb_formatted_code);\n",
       "                        break;\n",
       "                    }\n",
       "                }\n",
       "            }, 500);\n",
       "            "
      ],
      "text/plain": [
       "<IPython.core.display.Javascript object>"
      ]
     },
     "metadata": {},
     "output_type": "display_data"
    }
   ],
   "source": [
    "import numpy as np\n",
    "import matplotlib.pyplot as plt"
   ]
  },
  {
   "cell_type": "code",
   "execution_count": 312,
   "metadata": {},
   "outputs": [
    {
     "data": {
      "application/javascript": [
       "\n",
       "            setTimeout(function() {\n",
       "                var nbb_cell_id = 312;\n",
       "                var nbb_formatted_code = \"import matplotlib as mpl\\nfrom matplotlib.colors import LinearSegmentedColormap\\nfrom matplotlib.patches import Patch\";\n",
       "                var nbb_cells = Jupyter.notebook.get_cells();\n",
       "                for (var i = 0; i < nbb_cells.length; ++i) {\n",
       "                    if (nbb_cells[i].input_prompt_number == nbb_cell_id) {\n",
       "                        nbb_cells[i].set_text(nbb_formatted_code);\n",
       "                        break;\n",
       "                    }\n",
       "                }\n",
       "            }, 500);\n",
       "            "
      ],
      "text/plain": [
       "<IPython.core.display.Javascript object>"
      ]
     },
     "metadata": {},
     "output_type": "display_data"
    }
   ],
   "source": [
    "import matplotlib as mpl\n",
    "from matplotlib.colors import LinearSegmentedColormap\n",
    "from matplotlib.patches import Patch"
   ]
  },
  {
   "cell_type": "code",
   "execution_count": 13,
   "metadata": {},
   "outputs": [
    {
     "data": {
      "application/javascript": [
       "\n",
       "            setTimeout(function() {\n",
       "                var nbb_cell_id = 13;\n",
       "                var nbb_formatted_code = \"colors = [\\\"#035afc\\\", \\\"#56fc03\\\", \\\"#fc0303\\\", \\\"#fff6a6\\\"]\\nvalues = [1, 2, 3, 4]\\n\\nnorm = mpl.colors.Normalize(vmin=min(values), vmax=max(values))\\nnormed_vals = norm(values)\\n\\ncmap = LinearSegmentedColormap.from_list(\\n    \\\"mypalette\\\", list(zip(normed_vals, colors)), N=1000\\n)\\n\\nvec_func = np.vectorize(lambda l: 4 if l == 0 else l)\\n\\nfont = {\\\"weight\\\": \\\"bold\\\", \\\"size\\\": 22}\\nmpl.rc(\\\"font\\\", **font)\";\n",
       "                var nbb_cells = Jupyter.notebook.get_cells();\n",
       "                for (var i = 0; i < nbb_cells.length; ++i) {\n",
       "                    if (nbb_cells[i].input_prompt_number == nbb_cell_id) {\n",
       "                        nbb_cells[i].set_text(nbb_formatted_code);\n",
       "                        break;\n",
       "                    }\n",
       "                }\n",
       "            }, 500);\n",
       "            "
      ],
      "text/plain": [
       "<IPython.core.display.Javascript object>"
      ]
     },
     "metadata": {},
     "output_type": "display_data"
    }
   ],
   "source": [
    "colors = [\"#035afc\", \"#56fc03\", \"#fc0303\", \"#fff6a6\"]\n",
    "values = [1, 2, 3, 4]\n",
    "\n",
    "norm = mpl.colors.Normalize(vmin=min(values), vmax=max(values))\n",
    "normed_vals = norm(values)\n",
    "\n",
    "cmap = LinearSegmentedColormap.from_list(\n",
    "    \"mypalette\", list(zip(normed_vals, colors)), N=1000\n",
    ")\n",
    "\n",
    "vec_func = np.vectorize(lambda l: 4 if l == 0 else l)\n",
    "\n",
    "font = {\"weight\": \"bold\", \"size\": 22}\n",
    "mpl.rc(\"font\", **font)"
   ]
  },
  {
   "cell_type": "markdown",
   "metadata": {},
   "source": [
    "### Specific cmap"
   ]
  },
  {
   "cell_type": "markdown",
   "metadata": {},
   "source": [
    "# Question 1 :  Undestanding MDPs"
   ]
  },
  {
   "cell_type": "markdown",
   "metadata": {},
   "source": [
    "Const init"
   ]
  },
  {
   "cell_type": "code",
   "execution_count": 14,
   "metadata": {},
   "outputs": [
    {
     "data": {
      "application/javascript": [
       "\n",
       "            setTimeout(function() {\n",
       "                var nbb_cell_id = 14;\n",
       "                var nbb_formatted_code = \"CID = \\\"1797836\\\"\\ngamma = 1\\nS = [\\\"s1\\\", \\\"s2\\\", \\\"s3\\\"]\";\n",
       "                var nbb_cells = Jupyter.notebook.get_cells();\n",
       "                for (var i = 0; i < nbb_cells.length; ++i) {\n",
       "                    if (nbb_cells[i].input_prompt_number == nbb_cell_id) {\n",
       "                        nbb_cells[i].set_text(nbb_formatted_code);\n",
       "                        break;\n",
       "                    }\n",
       "                }\n",
       "            }, 500);\n",
       "            "
      ],
      "text/plain": [
       "<IPython.core.display.Javascript object>"
      ]
     },
     "metadata": {},
     "output_type": "display_data"
    }
   ],
   "source": [
    "CID = \"1797836\"\n",
    "gamma = 1\n",
    "S = [\"s1\", \"s2\", \"s3\"]"
   ]
  },
  {
   "cell_type": "code",
   "execution_count": 15,
   "metadata": {},
   "outputs": [
    {
     "data": {
      "application/javascript": [
       "\n",
       "            setTimeout(function() {\n",
       "                var nbb_cell_id = 15;\n",
       "                var nbb_formatted_code = \"cid = list(map(int, [k for k in CID]))\";\n",
       "                var nbb_cells = Jupyter.notebook.get_cells();\n",
       "                for (var i = 0; i < nbb_cells.length; ++i) {\n",
       "                    if (nbb_cells[i].input_prompt_number == nbb_cell_id) {\n",
       "                        nbb_cells[i].set_text(nbb_formatted_code);\n",
       "                        break;\n",
       "                    }\n",
       "                }\n",
       "            }, 500);\n",
       "            "
      ],
      "text/plain": [
       "<IPython.core.display.Javascript object>"
      ]
     },
     "metadata": {},
     "output_type": "display_data"
    }
   ],
   "source": [
    "cid = list(map(int, [k for k in CID]))"
   ]
  },
  {
   "cell_type": "markdown",
   "metadata": {},
   "source": [
    "### Trace and reward"
   ]
  },
  {
   "cell_type": "code",
   "execution_count": 16,
   "metadata": {},
   "outputs": [
    {
     "data": {
      "application/javascript": [
       "\n",
       "            setTimeout(function() {\n",
       "                var nbb_cell_id = 16;\n",
       "                var nbb_formatted_code = \"states = [(k + 2) % 3 for k in cid]\\nreward = [l % 2 for l in cid]\\ncombined = list(zip(states, reward))\";\n",
       "                var nbb_cells = Jupyter.notebook.get_cells();\n",
       "                for (var i = 0; i < nbb_cells.length; ++i) {\n",
       "                    if (nbb_cells[i].input_prompt_number == nbb_cell_id) {\n",
       "                        nbb_cells[i].set_text(nbb_formatted_code);\n",
       "                        break;\n",
       "                    }\n",
       "                }\n",
       "            }, 500);\n",
       "            "
      ],
      "text/plain": [
       "<IPython.core.display.Javascript object>"
      ]
     },
     "metadata": {},
     "output_type": "display_data"
    }
   ],
   "source": [
    "states = [(k + 2) % 3 for k in cid]\n",
    "reward = [l % 2 for l in cid]\n",
    "combined = list(zip(states, reward))"
   ]
  },
  {
   "cell_type": "code",
   "execution_count": 17,
   "metadata": {},
   "outputs": [
    {
     "name": "stdout",
     "output_type": "stream",
     "text": [
      "Trace is: s_0 1 s_0 1 s_2 1 s_0 1 s_1 0 s_2 1 s_2 0\n"
     ]
    },
    {
     "data": {
      "application/javascript": [
       "\n",
       "            setTimeout(function() {\n",
       "                var nbb_cell_id = 17;\n",
       "                var nbb_formatted_code = \"trace = [f\\\"s_{state} {reward} \\\" for state, reward in combined]\\nprint(f\\\"Trace is: {''.join(trace)[:-1]}\\\")\";\n",
       "                var nbb_cells = Jupyter.notebook.get_cells();\n",
       "                for (var i = 0; i < nbb_cells.length; ++i) {\n",
       "                    if (nbb_cells[i].input_prompt_number == nbb_cell_id) {\n",
       "                        nbb_cells[i].set_text(nbb_formatted_code);\n",
       "                        break;\n",
       "                    }\n",
       "                }\n",
       "            }, 500);\n",
       "            "
      ],
      "text/plain": [
       "<IPython.core.display.Javascript object>"
      ]
     },
     "metadata": {},
     "output_type": "display_data"
    }
   ],
   "source": [
    "trace = [f\"s_{state} {reward} \" for state, reward in combined]\n",
    "print(f\"Trace is: {''.join(trace)[:-1]}\")"
   ]
  },
  {
   "cell_type": "markdown",
   "metadata": {},
   "source": [
    "## TD"
   ]
  },
  {
   "cell_type": "code",
   "execution_count": 20,
   "metadata": {},
   "outputs": [
    {
     "data": {
      "application/javascript": [
       "\n",
       "            setTimeout(function() {\n",
       "                var nbb_cell_id = 20;\n",
       "                var nbb_formatted_code = \"v_td = [0, 0, 0]\\nalpha = 0.3\\nfor k in range(len(states) - 1):\\n    d = reward[k] + gamma * v_td[states[k + 1]] - v_td[states[k]]\\n    v_td[states[k]] = v_td[states[k]] + alpha * d\";\n",
       "                var nbb_cells = Jupyter.notebook.get_cells();\n",
       "                for (var i = 0; i < nbb_cells.length; ++i) {\n",
       "                    if (nbb_cells[i].input_prompt_number == nbb_cell_id) {\n",
       "                        nbb_cells[i].set_text(nbb_formatted_code);\n",
       "                        break;\n",
       "                    }\n",
       "                }\n",
       "            }, 500);\n",
       "            "
      ],
      "text/plain": [
       "<IPython.core.display.Javascript object>"
      ]
     },
     "metadata": {},
     "output_type": "display_data"
    }
   ],
   "source": [
    "v_td = [0, 0, 0]\n",
    "alpha = 0.3\n",
    "for k in range(len(states) - 1):\n",
    "    d = reward[k] + gamma * v_td[states[k + 1]] - v_td[states[k]]\n",
    "    v_td[states[k]] = v_td[states[k]] + alpha * d"
   ]
  },
  {
   "cell_type": "code",
   "execution_count": 21,
   "metadata": {},
   "outputs": [
    {
     "name": "stdout",
     "output_type": "stream",
     "text": [
      "State s_0 has estimated value 0.657 with TD\n",
      "State s_1 has estimated value 0.1359 with TD\n",
      "State s_2 has estimated value 0.7529999999999999 with TD\n",
      "\n"
     ]
    },
    {
     "data": {
      "application/javascript": [
       "\n",
       "            setTimeout(function() {\n",
       "                var nbb_cell_id = 21;\n",
       "                var nbb_formatted_code = \"print(\\n    \\\"\\\".join(\\n        [\\n            f\\\"State s_{k} has estimated value {v_td[k]} with TD\\\\n\\\"\\n            for k in range(len(v_td))\\n        ]\\n    )\\n)\";\n",
       "                var nbb_cells = Jupyter.notebook.get_cells();\n",
       "                for (var i = 0; i < nbb_cells.length; ++i) {\n",
       "                    if (nbb_cells[i].input_prompt_number == nbb_cell_id) {\n",
       "                        nbb_cells[i].set_text(nbb_formatted_code);\n",
       "                        break;\n",
       "                    }\n",
       "                }\n",
       "            }, 500);\n",
       "            "
      ],
      "text/plain": [
       "<IPython.core.display.Javascript object>"
      ]
     },
     "metadata": {},
     "output_type": "display_data"
    }
   ],
   "source": [
    "print(\n",
    "    \"\".join(\n",
    "        [\n",
    "            f\"State s_{k} has estimated value {v_td[k]} with TD\\n\"\n",
    "            for k in range(len(v_td))\n",
    "        ]\n",
    "    )\n",
    ")"
   ]
  },
  {
   "cell_type": "markdown",
   "metadata": {},
   "source": [
    "## MC"
   ]
  },
  {
   "cell_type": "code",
   "execution_count": 22,
   "metadata": {},
   "outputs": [
    {
     "data": {
      "application/javascript": [
       "\n",
       "            setTimeout(function() {\n",
       "                var nbb_cell_id = 22;\n",
       "                var nbb_formatted_code = \"def tomap(l, R):\\n    R[l].append(reward[l])\";\n",
       "                var nbb_cells = Jupyter.notebook.get_cells();\n",
       "                for (var i = 0; i < nbb_cells.length; ++i) {\n",
       "                    if (nbb_cells[i].input_prompt_number == nbb_cell_id) {\n",
       "                        nbb_cells[i].set_text(nbb_formatted_code);\n",
       "                        break;\n",
       "                    }\n",
       "                }\n",
       "            }, 500);\n",
       "            "
      ],
      "text/plain": [
       "<IPython.core.display.Javascript object>"
      ]
     },
     "metadata": {},
     "output_type": "display_data"
    }
   ],
   "source": [
    "def tomap(l, R):\n",
    "    R[l].append(reward[l])"
   ]
  },
  {
   "cell_type": "code",
   "execution_count": 23,
   "metadata": {},
   "outputs": [
    {
     "data": {
      "application/javascript": [
       "\n",
       "            setTimeout(function() {\n",
       "                var nbb_cell_id = 23;\n",
       "                var nbb_formatted_code = \"R = [[], [], []]\\nlist(map(lambda l: tomap(l, R), states))\\nv_mc = [np.mean(l) for l in R]\";\n",
       "                var nbb_cells = Jupyter.notebook.get_cells();\n",
       "                for (var i = 0; i < nbb_cells.length; ++i) {\n",
       "                    if (nbb_cells[i].input_prompt_number == nbb_cell_id) {\n",
       "                        nbb_cells[i].set_text(nbb_formatted_code);\n",
       "                        break;\n",
       "                    }\n",
       "                }\n",
       "            }, 500);\n",
       "            "
      ],
      "text/plain": [
       "<IPython.core.display.Javascript object>"
      ]
     },
     "metadata": {},
     "output_type": "display_data"
    }
   ],
   "source": [
    "R = [[], [], []]\n",
    "list(map(lambda l: tomap(l, R), states))\n",
    "v_mc = [np.mean(l) for l in R]"
   ]
  },
  {
   "cell_type": "code",
   "execution_count": 24,
   "metadata": {},
   "outputs": [
    {
     "name": "stdout",
     "output_type": "stream",
     "text": [
      "State s_0 has estimated value 1.0 with MC\n",
      "State s_1 has estimated value 1.0 with MC\n",
      "State s_2 has estimated value 1.0 with MC\n",
      "\n"
     ]
    },
    {
     "data": {
      "application/javascript": [
       "\n",
       "            setTimeout(function() {\n",
       "                var nbb_cell_id = 24;\n",
       "                var nbb_formatted_code = \"print(\\n    \\\"\\\".join(\\n        [\\n            f\\\"State s_{k} has estimated value {v_mc[k]} with MC\\\\n\\\"\\n            for k in range(len(v_mc))\\n        ]\\n    )\\n)\";\n",
       "                var nbb_cells = Jupyter.notebook.get_cells();\n",
       "                for (var i = 0; i < nbb_cells.length; ++i) {\n",
       "                    if (nbb_cells[i].input_prompt_number == nbb_cell_id) {\n",
       "                        nbb_cells[i].set_text(nbb_formatted_code);\n",
       "                        break;\n",
       "                    }\n",
       "                }\n",
       "            }, 500);\n",
       "            "
      ],
      "text/plain": [
       "<IPython.core.display.Javascript object>"
      ]
     },
     "metadata": {},
     "output_type": "display_data"
    }
   ],
   "source": [
    "print(\n",
    "    \"\".join(\n",
    "        [\n",
    "            f\"State s_{k} has estimated value {v_mc[k]} with MC\\n\"\n",
    "            for k in range(len(v_mc))\n",
    "        ]\n",
    "    )\n",
    ")"
   ]
  },
  {
   "cell_type": "markdown",
   "metadata": {},
   "source": [
    "# Question 2: Understanding of Grid Worlds"
   ]
  },
  {
   "cell_type": "code",
   "execution_count": 31,
   "metadata": {},
   "outputs": [
    {
     "data": {
      "application/javascript": [
       "\n",
       "            setTimeout(function() {\n",
       "                var nbb_cell_id = 31;\n",
       "                var nbb_formatted_code = \"x = 8\\ny = 3\\nz = 6\\nreward_state = ((z + 1) % 3) + 1\\nreward_loc = (0, 1)\\n\\np = 0.25 + 0.5 * x / 10\\ngamma = 0.2 + 0.5 * y / 10\";\n",
       "                var nbb_cells = Jupyter.notebook.get_cells();\n",
       "                for (var i = 0; i < nbb_cells.length; ++i) {\n",
       "                    if (nbb_cells[i].input_prompt_number == nbb_cell_id) {\n",
       "                        nbb_cells[i].set_text(nbb_formatted_code);\n",
       "                        break;\n",
       "                    }\n",
       "                }\n",
       "            }, 500);\n",
       "            "
      ],
      "text/plain": [
       "<IPython.core.display.Javascript object>"
      ]
     },
     "metadata": {},
     "output_type": "display_data"
    }
   ],
   "source": [
    "x = 8\n",
    "y = 3\n",
    "z = 6\n",
    "reward_state = ((z + 1) % 3) + 1\n",
    "reward_loc = (0, 1)\n",
    "\n",
    "p = 0.25 + 0.5 * x / 10\n",
    "gamma = 0.2 + 0.5 * y / 10"
   ]
  },
  {
   "cell_type": "code",
   "execution_count": 363,
   "metadata": {},
   "outputs": [
    {
     "data": {
      "application/javascript": [
       "\n",
       "            setTimeout(function() {\n",
       "                var nbb_cell_id = 363;\n",
       "                var nbb_formatted_code = \"## Code heavily inspired and adapted from lab3\\nclass GridWorld(object):\\n    def __init__(self, reward_loc=reward_loc, gamma=gamma, p=p):\\n\\n        # Size of grid world\\n        self.shape = (4, 4)\\n\\n        # Locations of the obstacles\\n        self.obstacle_locs = [(1, 2), (2, 0), (3, 1), (3, 3), (3, 0)]\\n\\n        # Locations for the absorbing states\\n        self.absorbing_locs = [reward_loc, (3, 2)]\\n\\n        # Rewards for each of the absorbing states\\n        self.special_rewards = {\\n            reward_loc: 10,\\n            (3, 2): -100,\\n        }  # corresponds to each of the absorbing_locs\\n\\n        # Reward for all the other states\\n        self.default_reward = -1\\n\\n        # Action names\\n        self.action_names = [\\\"N\\\", \\\"E\\\", \\\"S\\\", \\\"W\\\"]\\n\\n        # Number of actions\\n        self.action_size = len(self.action_names)\\n\\n        # Gamma\\n        self.gamma = gamma\\n\\n        # Probability of action\\n        self.p = p\\n        self.p_other = (1 - p) / 3\\n\\n        ############################################\\n\\n        #### Internal State  ####\\n\\n        # Get attributes defining the world\\n        state_size, T, R, absorbing, locs = self.build_grid_world()\\n\\n        # Number of valid states in the gridworld (there are 22 of them)\\n        self.state_size = state_size\\n\\n        # Transition operator (3D tensor)\\n        self.T = T\\n\\n        # Reward function (3D tensor)\\n        self.R = R\\n\\n        # Absorbing states\\n        self.absorbing = absorbing\\n\\n        # The locations of the valid states\\n        self.locs = locs\\n\\n        # Placing the walls on a bitmap\\n        self.walls = np.zeros(self.shape)\\n        for ob in self.obstacle_locs:\\n            self.walls[ob] = 1\\n\\n        # Placing the absorbers on a grid for illustration\\n        self.absorbers = np.zeros(self.shape)\\n        for ab in self.absorbing_locs:\\n            self.absorbers[ab] = -1\\n\\n        # Placing the rewarders on a grid for illustration\\n        self.rewarders = np.zeros(self.shape)\\n        for rew in self.special_rewards:\\n            self.rewarders[rew] = 2 if self.special_rewards[rew] > 0 else 3\\n\\n        # Illustrating the grid world\\n        # self.paint_maps()\\n        ################################\\n\\n    ####### Getters ###########\\n\\n    def get_transition_matrix(self):\\n        return self.T\\n\\n    def get_reward_matrix(self):\\n        return self.R\\n\\n    ########################\\n\\n    ####### Methods #########\\n    def value_iteration(self, threshold):\\n        \\\"\\\"\\\"\\n        Value iteration to determine the best policy and the related value\\n        \\\"\\\"\\\"\\n        # Make sure delta is bigger than the threshold to start with\\n        delta = 2 * threshold\\n\\n        # Get the reward and transition matrices\\n        R = self.get_reward_matrix()\\n        T = self.get_transition_matrix()\\n\\n        # Initialise policy\\n        policy = np.zeros(self.state_size)\\n\\n        # The value is initialised at 0\\n        V = np.zeros(self.state_size)\\n\\n        # Make a deep copy of the value array to hold the update during the evaluation\\n        Vnew = np.full(self.state_size, -np.inf)\\n\\n        # While the Value has not yet converged do:\\n        while delta > threshold:\\n            for s in range(self.state_size):\\n\\n                # Getting the max of value function according to better policy\\n                tmp_max = -np.inf\\n                best_action = 0\\n\\n                for action in range(self.action_size):\\n                    tmp = 0\\n                    for s_posterior in range(self.state_size):\\n                        tmp += T[s_posterior, s, action] * (\\n                            R[s_posterior, s, action] + self.gamma * V[s_posterior]\\n                        )\\n                    if tmp >= tmp_max:\\n                        best_action = action\\n                        tmp_max = tmp\\n\\n                Vnew[s] = tmp_max\\n                policy[s] = best_action\\n\\n            #             print(\\\"---\\\")\\n            #             print(f\\\"Vnew = {Vnew}\\\")\\n            #             print(f\\\"V = {V}\\\")\\n            #             print(f\\\"policy= {policy}\\\")\\n            #             print(\\\"\\\\n\\\\n\\\\n\\\")\\n\\n            delta = max(abs(Vnew - V))\\n\\n            V = np.copy(Vnew)\\n\\n        return V, policy.astype(int)\\n\\n    ##########################\\n\\n    ########### Internal Helper Functions #####################\\n    def paint_maps(self):\\n        plt.figure(figsize=(15, 15))\\n        plt.subplot(1, 3, 1)\\n        plt.imshow(self.walls)\\n        plt.subplot(1, 3, 2)\\n        plt.imshow(self.absorbers)\\n        plt.subplot(1, 3, 3)\\n        plt.imshow(self.rewarders)\\n        plt.show()\\n\\n    def build_grid_world(self):\\n        # Get the locations of all the valid states, the neighbours of each state (by state number),\\n        # and the absorbing states (array of 0's with ones in the absorbing states)\\n        locations, neighbours, absorbing = self.get_topology()\\n\\n        # Get the number of states\\n        S = len(locations)\\n\\n        # Initialise the transition matrix\\n        T = self.build_transition_matrix(S, neighbours)\\n\\n        # Build the reward matrix\\n        R = self.build_reward_matrix(S, locations)\\n\\n        return S, T, R, absorbing, locations\\n\\n    def build_reward_matrix(self, S, locations):\\n        \\\"\\\"\\\"\\n        Build the reward matrix of GridWorld\\n        R[posterior, prior, action] \\n        Example:\\n            R[11, 10, 2] is the reward from state s10 to s_11\\n            action 2\\n        \\\"\\\"\\\"\\n\\n        # Build the reward matrix\\n        R = self.default_reward * np.ones((S, S, 4))\\n\\n        for loc in self.special_rewards:\\n            post_state = self.loc_to_state(loc, locations)\\n            R[post_state, :, :] = self.special_rewards[loc]\\n\\n        return R\\n\\n    def build_transition_matrix(self, S, neighbours):\\n        \\\"\\\"\\\"\\n        Build the transition matrix of GridWorld\\n        \\\"\\\"\\\"\\n\\n        # Initialise the transition matrix\\n        T = np.zeros((S, S, 4))\\n\\n        for prior_state in range(S):\\n            for action in range(4):  # N E S W\\n                main_action_state = neighbours[prior_state, action]\\n                T[main_action_state, prior_state, action] += self.p  # / occ\\n\\n                other_action_state = [\\n                    l for l in neighbours[prior_state] if l != main_action_state\\n                ]\\n\\n                if len(other_action_state) != 3:\\n                    T[main_action_state, prior_state, action] += (\\n                        3 - len(other_action_state)\\n                    ) * self.p_other\\n\\n                for other_state in other_action_state:\\n                    T[other_state, prior_state, action] += self.p_other\\n\\n        # Absorbing states\\n        T[:, 1] = np.zeros((11, 4))\\n        T[:, 10] = np.zeros((11, 4))\\n\\n        return T\\n\\n    def get_topology(self):\\n        \\\"\\\"\\\"\\n        locs : list of valid locations\\n        state_neighbours: matrix number_state X number_actions\\n                          line ==> state\\n                          column ==> action (N, E, S, W)\\n        absorbing : list of absobing states\\n                    index ==> state\\n                    value ==> if 1 then absorbing state\\n        \\\"\\\"\\\"\\n        height = self.shape[0]\\n        width = self.shape[1]\\n\\n        index = 1\\n        locs = []\\n        neighbour_locs = []\\n\\n        for i in range(height):\\n            for j in range(width):\\n                # Get the locaiton of each state\\n                loc = (i, j)\\n\\n                # And append it to the valid state locations if it is a valid state (ie not absorbing)\\n                if self.is_location(loc):\\n                    locs.append(loc)\\n\\n                    # Get an array with the neighbours of each state, in terms of locations\\n                    local_neighbours = [\\n                        self.get_neighbour(loc, direction)\\n                        for direction in [\\\"nr\\\", \\\"ea\\\", \\\"so\\\", \\\"we\\\"]\\n                    ]\\n                    neighbour_locs.append(local_neighbours)\\n\\n        # translate neighbour lists from locations to states\\n        num_states = len(locs)\\n        state_neighbours = np.zeros((num_states, 4))\\n\\n        for state in range(num_states):\\n            for direction in range(4):\\n                # Find neighbour location\\n                nloc = neighbour_locs[state][direction]\\n\\n                # Turn location into a state number\\n                nstate = self.loc_to_state(nloc, locs)\\n\\n                # Insert into neighbour matrix\\n                state_neighbours[state, direction] = int(nstate)\\n\\n        # Translate absorbing locations into absorbing state indices\\n        absorbing = np.zeros((1, num_states))\\n        for a in self.absorbing_locs:\\n            absorbing_state = self.loc_to_state(a, locs)\\n            absorbing[0, absorbing_state] = 1\\n        return locs, state_neighbours.astype(int), absorbing\\n\\n    def loc_to_state(self, loc, locs):\\n        # takes list of locations and gives index corresponding to input loc\\n        return locs.index(tuple(loc))\\n\\n    def is_location(self, loc):\\n        # It is a valid location if it is in grid and not obstacle\\n        if (\\n            loc[0] < 0\\n            or loc[1] < 0\\n            or loc[0] > self.shape[0] - 1\\n            or loc[1] > self.shape[1] - 1\\n        ):\\n            return False\\n        elif loc in self.obstacle_locs:\\n            return False\\n        else:\\n            return True\\n\\n    def get_neighbour(self, loc, direction):\\n        # Find the valid neighbours (ie that are in the grid and not obstacle)\\n        i = loc[0]\\n        j = loc[1]\\n\\n        nr = (i - 1, j)\\n        ea = (i, j + 1)\\n        so = (i + 1, j)\\n        we = (i, j - 1)\\n\\n        # If the neighbour is a valid location, accept it, otherwise, stay put\\n        if direction == \\\"nr\\\" and self.is_location(nr):\\n            return nr\\n        elif direction == \\\"ea\\\" and self.is_location(ea):\\n            return ea\\n        elif direction == \\\"so\\\" and self.is_location(so):\\n            return so\\n        elif direction == \\\"we\\\" and self.is_location(we):\\n            return we\\n        else:\\n            # default is to return to the same location\\n            return loc\\n\\n    ###########################################\\n\\n    def draw_policy(self, policy):\\n        # Draw a deterministic policy\\n        # The policy needs to be a np array of 22 values between 0 and 3 with\\n        # 0 -> N, 1->E, 2->S, 3->W\\n        plt.figure(figsize=(20, 15))\\n\\n        plt.imshow(vec_func(self.walls + self.rewarders), cmap=cmap)\\n        for state, action in enumerate(policy):\\n            if self.absorbing[0, state]:\\n                continue\\n            arrows = [r\\\"$\\\\uparrow$\\\", r\\\"$\\\\rightarrow$\\\", r\\\"$\\\\downarrow$\\\", r\\\"$\\\\leftarrow$\\\"]\\n            action_arrow = f\\\"{arrows[action]}\\\\n $S_{state}$\\\"\\n            location = self.locs[state]\\n            plt.text(location[1], location[0], action_arrow, ha=\\\"center\\\", va=\\\"center\\\")\\n        plt.axis(\\\"off\\\")\\n        legend_elements = [\\n            Patch(facecolor=\\\"#035afc\\\", edgecolor=\\\"#035afc\\\", label=\\\"Wall\\\"),\\n            Patch(\\n                facecolor=\\\"#56fc03\\\",\\n                edgecolor=\\\"#56fc03\\\",\\n                label=\\\"Terminal state\\\\nReward 10\\\",\\n            ),\\n            Patch(\\n                facecolor=\\\"#fc0303\\\",\\n                edgecolor=\\\"#fc0303\\\",\\n                label=\\\"Terminal state\\\\nReward -100\\\",\\n            ),\\n            Patch(facecolor=\\\"#fff6a6\\\", edgecolor=\\\"#fff6a6\\\", label=\\\"Possible state\\\"),\\n        ]\\n        plt.legend(handles=legend_elements, loc=\\\"center left\\\", bbox_to_anchor=(1, 0.5))\\n        plt.title(\\n            f\\\"Policy representation for $\\\\gamma={self.gamma}$ and $p={self.p}$\\\", y=1.03\\n        )\\n        plt.savefig(\\\"template/policy\\\")\\n        plt.show()\\n\\n    def draw_value_function(self, V):\\n\\n        plt.figure(figsize=(20, 15))\\n\\n        plt.imshow(vec_func(self.walls + self.rewarders), cmap=cmap)\\n        for state, action in enumerate(V):\\n            if self.absorbing[0, state]:\\n                continue\\n            action_arrow = f\\\"$V(S_{state})={V[state]:.2f}$\\\"\\n            location = self.locs[state]\\n            plt.text(location[1], location[0], action_arrow, ha=\\\"center\\\", va=\\\"center\\\")\\n        plt.axis(\\\"off\\\")\\n        legend_elements = [\\n            Patch(facecolor=\\\"#035afc\\\", edgecolor=\\\"#035afc\\\", label=\\\"Wall\\\"),\\n            Patch(\\n                facecolor=\\\"#56fc03\\\",\\n                edgecolor=\\\"#56fc03\\\",\\n                label=\\\"Terminal state\\\\nReward 10\\\",\\n            ),\\n            Patch(\\n                facecolor=\\\"#fc0303\\\",\\n                edgecolor=\\\"#fc0303\\\",\\n                label=\\\"Terminal state\\\\nReward -100\\\",\\n            ),\\n            Patch(facecolor=\\\"#fff6a6\\\", edgecolor=\\\"#fff6a6\\\", label=\\\"Possible state\\\"),\\n        ]\\n        plt.legend(handles=legend_elements, loc=\\\"center left\\\", bbox_to_anchor=(1, 0.5))\\n        plt.title(\\n            f\\\"Policy representation for $\\\\gamma={self.gamma}$ and $p={self.p}$\\\", y=1.03\\n        )\\n        plt.savefig(\\\"template/value_function\\\")\\n        plt.show()\";\n",
       "                var nbb_cells = Jupyter.notebook.get_cells();\n",
       "                for (var i = 0; i < nbb_cells.length; ++i) {\n",
       "                    if (nbb_cells[i].input_prompt_number == nbb_cell_id) {\n",
       "                        nbb_cells[i].set_text(nbb_formatted_code);\n",
       "                        break;\n",
       "                    }\n",
       "                }\n",
       "            }, 500);\n",
       "            "
      ],
      "text/plain": [
       "<IPython.core.display.Javascript object>"
      ]
     },
     "metadata": {},
     "output_type": "display_data"
    }
   ],
   "source": [
    "## Code heavily inspired and adapted from lab3\n",
    "class GridWorld(object):\n",
    "    def __init__(self, reward_loc=reward_loc, gamma=gamma, p=p):\n",
    "\n",
    "        # Size of grid world\n",
    "        self.shape = (4, 4)\n",
    "\n",
    "        # Locations of the obstacles\n",
    "        self.obstacle_locs = [(1, 2), (2, 0), (3, 1), (3, 3), (3, 0)]\n",
    "\n",
    "        # Locations for the absorbing states\n",
    "        self.absorbing_locs = [reward_loc, (3, 2)]\n",
    "\n",
    "        # Rewards for each of the absorbing states\n",
    "        self.special_rewards = {\n",
    "            reward_loc: 10,\n",
    "            (3, 2): -100,\n",
    "        }  # corresponds to each of the absorbing_locs\n",
    "\n",
    "        # Reward for all the other states\n",
    "        self.default_reward = -1\n",
    "\n",
    "        # Action names\n",
    "        self.action_names = [\"N\", \"E\", \"S\", \"W\"]\n",
    "\n",
    "        # Number of actions\n",
    "        self.action_size = len(self.action_names)\n",
    "\n",
    "        # Gamma\n",
    "        self.gamma = gamma\n",
    "\n",
    "        # Probability of action\n",
    "        self.p = p\n",
    "        self.p_other = (1 - p) / 3\n",
    "\n",
    "        ############################################\n",
    "\n",
    "        #### Internal State  ####\n",
    "\n",
    "        # Get attributes defining the world\n",
    "        state_size, T, R, absorbing, locs = self.build_grid_world()\n",
    "\n",
    "        # Number of valid states in the gridworld (there are 22 of them)\n",
    "        self.state_size = state_size\n",
    "\n",
    "        # Transition operator (3D tensor)\n",
    "        self.T = T\n",
    "\n",
    "        # Reward function (3D tensor)\n",
    "        self.R = R\n",
    "\n",
    "        # Absorbing states\n",
    "        self.absorbing = absorbing\n",
    "\n",
    "        # The locations of the valid states\n",
    "        self.locs = locs\n",
    "\n",
    "        # Placing the walls on a bitmap\n",
    "        self.walls = np.zeros(self.shape)\n",
    "        for ob in self.obstacle_locs:\n",
    "            self.walls[ob] = 1\n",
    "\n",
    "        # Placing the absorbers on a grid for illustration\n",
    "        self.absorbers = np.zeros(self.shape)\n",
    "        for ab in self.absorbing_locs:\n",
    "            self.absorbers[ab] = -1\n",
    "\n",
    "        # Placing the rewarders on a grid for illustration\n",
    "        self.rewarders = np.zeros(self.shape)\n",
    "        for rew in self.special_rewards:\n",
    "            self.rewarders[rew] = 2 if self.special_rewards[rew] > 0 else 3\n",
    "\n",
    "        # Illustrating the grid world\n",
    "        # self.paint_maps()\n",
    "        ################################\n",
    "\n",
    "    ####### Getters ###########\n",
    "\n",
    "    def get_transition_matrix(self):\n",
    "        return self.T\n",
    "\n",
    "    def get_reward_matrix(self):\n",
    "        return self.R\n",
    "\n",
    "    ########################\n",
    "\n",
    "    ####### Methods #########\n",
    "    def value_iteration(self, threshold):\n",
    "        \"\"\"\n",
    "        Value iteration to determine the best policy and the related value\n",
    "        \"\"\"\n",
    "        # Make sure delta is bigger than the threshold to start with\n",
    "        delta = 2 * threshold\n",
    "\n",
    "        # Get the reward and transition matrices\n",
    "        R = self.get_reward_matrix()\n",
    "        T = self.get_transition_matrix()\n",
    "\n",
    "        # Initialise policy\n",
    "        policy = np.zeros(self.state_size)\n",
    "\n",
    "        # The value is initialised at 0\n",
    "        V = np.zeros(self.state_size)\n",
    "\n",
    "        # Make a deep copy of the value array to hold the update during the evaluation\n",
    "        Vnew = np.full(self.state_size, -np.inf)\n",
    "\n",
    "        # While the Value has not yet converged do:\n",
    "        while delta > threshold:\n",
    "            for s in range(self.state_size):\n",
    "\n",
    "                # Getting the max of value function according to better policy\n",
    "                tmp_max = -np.inf\n",
    "                best_action = 0\n",
    "\n",
    "                for action in range(self.action_size):\n",
    "                    tmp = 0\n",
    "                    for s_posterior in range(self.state_size):\n",
    "                        tmp += T[s_posterior, s, action] * (\n",
    "                            R[s_posterior, s, action] + self.gamma * V[s_posterior]\n",
    "                        )\n",
    "                    if tmp >= tmp_max:\n",
    "                        best_action = action\n",
    "                        tmp_max = tmp\n",
    "\n",
    "                Vnew[s] = tmp_max\n",
    "                policy[s] = best_action\n",
    "\n",
    "            #             print(\"---\")\n",
    "            #             print(f\"Vnew = {Vnew}\")\n",
    "            #             print(f\"V = {V}\")\n",
    "            #             print(f\"policy= {policy}\")\n",
    "            #             print(\"\\n\\n\\n\")\n",
    "\n",
    "            delta = max(abs(Vnew - V))\n",
    "\n",
    "            V = np.copy(Vnew)\n",
    "\n",
    "        return V, policy.astype(int)\n",
    "\n",
    "    ##########################\n",
    "\n",
    "    ########### Internal Helper Functions #####################\n",
    "    def paint_maps(self):\n",
    "        plt.figure(figsize=(15, 15))\n",
    "        plt.subplot(1, 3, 1)\n",
    "        plt.imshow(self.walls)\n",
    "        plt.subplot(1, 3, 2)\n",
    "        plt.imshow(self.absorbers)\n",
    "        plt.subplot(1, 3, 3)\n",
    "        plt.imshow(self.rewarders)\n",
    "        plt.show()\n",
    "\n",
    "    def build_grid_world(self):\n",
    "        # Get the locations of all the valid states, the neighbours of each state (by state number),\n",
    "        # and the absorbing states (array of 0's with ones in the absorbing states)\n",
    "        locations, neighbours, absorbing = self.get_topology()\n",
    "\n",
    "        # Get the number of states\n",
    "        S = len(locations)\n",
    "\n",
    "        # Initialise the transition matrix\n",
    "        T = self.build_transition_matrix(S, neighbours)\n",
    "\n",
    "        # Build the reward matrix\n",
    "        R = self.build_reward_matrix(S, locations)\n",
    "\n",
    "        return S, T, R, absorbing, locations\n",
    "\n",
    "    def build_reward_matrix(self, S, locations):\n",
    "        \"\"\"\n",
    "        Build the reward matrix of GridWorld\n",
    "        R[posterior, prior, action] \n",
    "        Example:\n",
    "            R[11, 10, 2] is the reward from state s10 to s_11\n",
    "            action 2\n",
    "        \"\"\"\n",
    "\n",
    "        # Build the reward matrix\n",
    "        R = self.default_reward * np.ones((S, S, 4))\n",
    "\n",
    "        for loc in self.special_rewards:\n",
    "            post_state = self.loc_to_state(loc, locations)\n",
    "            R[post_state, :, :] = self.special_rewards[loc]\n",
    "\n",
    "        return R\n",
    "\n",
    "    def build_transition_matrix(self, S, neighbours):\n",
    "        \"\"\"\n",
    "        Build the transition matrix of GridWorld\n",
    "        \"\"\"\n",
    "\n",
    "        # Initialise the transition matrix\n",
    "        T = np.zeros((S, S, 4))\n",
    "\n",
    "        for prior_state in range(S):\n",
    "            for action in range(4):  # N E S W\n",
    "                main_action_state = neighbours[prior_state, action]\n",
    "                T[main_action_state, prior_state, action] += self.p  # / occ\n",
    "\n",
    "                other_action_state = [\n",
    "                    l for l in neighbours[prior_state] if l != main_action_state\n",
    "                ]\n",
    "\n",
    "                if len(other_action_state) != 3:\n",
    "                    T[main_action_state, prior_state, action] += (\n",
    "                        3 - len(other_action_state)\n",
    "                    ) * self.p_other\n",
    "\n",
    "                for other_state in other_action_state:\n",
    "                    T[other_state, prior_state, action] += self.p_other\n",
    "\n",
    "        # Absorbing states\n",
    "        T[:, 1] = np.zeros((11, 4))\n",
    "        T[:, 10] = np.zeros((11, 4))\n",
    "\n",
    "        return T\n",
    "\n",
    "    def get_topology(self):\n",
    "        \"\"\"\n",
    "        locs : list of valid locations\n",
    "        state_neighbours: matrix number_state X number_actions\n",
    "                          line ==> state\n",
    "                          column ==> action (N, E, S, W)\n",
    "        absorbing : list of absobing states\n",
    "                    index ==> state\n",
    "                    value ==> if 1 then absorbing state\n",
    "        \"\"\"\n",
    "        height = self.shape[0]\n",
    "        width = self.shape[1]\n",
    "\n",
    "        index = 1\n",
    "        locs = []\n",
    "        neighbour_locs = []\n",
    "\n",
    "        for i in range(height):\n",
    "            for j in range(width):\n",
    "                # Get the locaiton of each state\n",
    "                loc = (i, j)\n",
    "\n",
    "                # And append it to the valid state locations if it is a valid state (ie not absorbing)\n",
    "                if self.is_location(loc):\n",
    "                    locs.append(loc)\n",
    "\n",
    "                    # Get an array with the neighbours of each state, in terms of locations\n",
    "                    local_neighbours = [\n",
    "                        self.get_neighbour(loc, direction)\n",
    "                        for direction in [\"nr\", \"ea\", \"so\", \"we\"]\n",
    "                    ]\n",
    "                    neighbour_locs.append(local_neighbours)\n",
    "\n",
    "        # translate neighbour lists from locations to states\n",
    "        num_states = len(locs)\n",
    "        state_neighbours = np.zeros((num_states, 4))\n",
    "\n",
    "        for state in range(num_states):\n",
    "            for direction in range(4):\n",
    "                # Find neighbour location\n",
    "                nloc = neighbour_locs[state][direction]\n",
    "\n",
    "                # Turn location into a state number\n",
    "                nstate = self.loc_to_state(nloc, locs)\n",
    "\n",
    "                # Insert into neighbour matrix\n",
    "                state_neighbours[state, direction] = int(nstate)\n",
    "\n",
    "        # Translate absorbing locations into absorbing state indices\n",
    "        absorbing = np.zeros((1, num_states))\n",
    "        for a in self.absorbing_locs:\n",
    "            absorbing_state = self.loc_to_state(a, locs)\n",
    "            absorbing[0, absorbing_state] = 1\n",
    "        return locs, state_neighbours.astype(int), absorbing\n",
    "\n",
    "    def loc_to_state(self, loc, locs):\n",
    "        # takes list of locations and gives index corresponding to input loc\n",
    "        return locs.index(tuple(loc))\n",
    "\n",
    "    def is_location(self, loc):\n",
    "        # It is a valid location if it is in grid and not obstacle\n",
    "        if (\n",
    "            loc[0] < 0\n",
    "            or loc[1] < 0\n",
    "            or loc[0] > self.shape[0] - 1\n",
    "            or loc[1] > self.shape[1] - 1\n",
    "        ):\n",
    "            return False\n",
    "        elif loc in self.obstacle_locs:\n",
    "            return False\n",
    "        else:\n",
    "            return True\n",
    "\n",
    "    def get_neighbour(self, loc, direction):\n",
    "        # Find the valid neighbours (ie that are in the grid and not obstacle)\n",
    "        i = loc[0]\n",
    "        j = loc[1]\n",
    "\n",
    "        nr = (i - 1, j)\n",
    "        ea = (i, j + 1)\n",
    "        so = (i + 1, j)\n",
    "        we = (i, j - 1)\n",
    "\n",
    "        # If the neighbour is a valid location, accept it, otherwise, stay put\n",
    "        if direction == \"nr\" and self.is_location(nr):\n",
    "            return nr\n",
    "        elif direction == \"ea\" and self.is_location(ea):\n",
    "            return ea\n",
    "        elif direction == \"so\" and self.is_location(so):\n",
    "            return so\n",
    "        elif direction == \"we\" and self.is_location(we):\n",
    "            return we\n",
    "        else:\n",
    "            # default is to return to the same location\n",
    "            return loc\n",
    "\n",
    "    ###########################################\n",
    "\n",
    "    def draw_policy(self, policy):\n",
    "        # Draw a deterministic policy\n",
    "        # The policy needs to be a np array of 22 values between 0 and 3 with\n",
    "        # 0 -> N, 1->E, 2->S, 3->W\n",
    "        plt.figure(figsize=(20, 15))\n",
    "\n",
    "        plt.imshow(vec_func(self.walls + self.rewarders), cmap=cmap)\n",
    "        for state, action in enumerate(policy):\n",
    "            if self.absorbing[0, state]:\n",
    "                continue\n",
    "            arrows = [r\"$\\uparrow$\", r\"$\\rightarrow$\", r\"$\\downarrow$\", r\"$\\leftarrow$\"]\n",
    "            action_arrow = f\"{arrows[action]}\\n $S_{state}$\"\n",
    "            location = self.locs[state]\n",
    "            plt.text(location[1], location[0], action_arrow, ha=\"center\", va=\"center\")\n",
    "        plt.axis(\"off\")\n",
    "        legend_elements = [\n",
    "            Patch(facecolor=\"#035afc\", edgecolor=\"#035afc\", label=\"Wall\"),\n",
    "            Patch(\n",
    "                facecolor=\"#56fc03\",\n",
    "                edgecolor=\"#56fc03\",\n",
    "                label=\"Terminal state\\nReward 10\",\n",
    "            ),\n",
    "            Patch(\n",
    "                facecolor=\"#fc0303\",\n",
    "                edgecolor=\"#fc0303\",\n",
    "                label=\"Terminal state\\nReward -100\",\n",
    "            ),\n",
    "            Patch(facecolor=\"#fff6a6\", edgecolor=\"#fff6a6\", label=\"Possible state\"),\n",
    "        ]\n",
    "        plt.legend(handles=legend_elements, loc=\"center left\", bbox_to_anchor=(1, 0.5))\n",
    "        plt.title(\n",
    "            f\"Policy representation for $\\gamma={self.gamma}$ and $p={self.p}$\", y=1.03\n",
    "        )\n",
    "        plt.savefig(\"template/policy\")\n",
    "        plt.show()\n",
    "\n",
    "    def draw_value_function(self, V):\n",
    "\n",
    "        plt.figure(figsize=(20, 15))\n",
    "\n",
    "        plt.imshow(vec_func(self.walls + self.rewarders), cmap=cmap)\n",
    "        for state, action in enumerate(V):\n",
    "            if self.absorbing[0, state]:\n",
    "                continue\n",
    "            action_arrow = f\"$V(S_{state})={V[state]:.2f}$\"\n",
    "            location = self.locs[state]\n",
    "            plt.text(location[1], location[0], action_arrow, ha=\"center\", va=\"center\")\n",
    "        plt.axis(\"off\")\n",
    "        legend_elements = [\n",
    "            Patch(facecolor=\"#035afc\", edgecolor=\"#035afc\", label=\"Wall\"),\n",
    "            Patch(\n",
    "                facecolor=\"#56fc03\",\n",
    "                edgecolor=\"#56fc03\",\n",
    "                label=\"Terminal state\\nReward 10\",\n",
    "            ),\n",
    "            Patch(\n",
    "                facecolor=\"#fc0303\",\n",
    "                edgecolor=\"#fc0303\",\n",
    "                label=\"Terminal state\\nReward -100\",\n",
    "            ),\n",
    "            Patch(facecolor=\"#fff6a6\", edgecolor=\"#fff6a6\", label=\"Possible state\"),\n",
    "        ]\n",
    "        plt.legend(handles=legend_elements, loc=\"center left\", bbox_to_anchor=(1, 0.5))\n",
    "        plt.title(\n",
    "            f\"Policy representation for $\\gamma={self.gamma}$ and $p={self.p}$\", y=1.03\n",
    "        )\n",
    "        plt.savefig(\"template/value_function\")\n",
    "        plt.show()"
   ]
  },
  {
   "cell_type": "code",
   "execution_count": 364,
   "metadata": {},
   "outputs": [
    {
     "data": {
      "application/javascript": [
       "\n",
       "            setTimeout(function() {\n",
       "                var nbb_cell_id = 364;\n",
       "                var nbb_formatted_code = \"g = GridWorld()\\nV, pol = g.value_iteration(1e-5)\";\n",
       "                var nbb_cells = Jupyter.notebook.get_cells();\n",
       "                for (var i = 0; i < nbb_cells.length; ++i) {\n",
       "                    if (nbb_cells[i].input_prompt_number == nbb_cell_id) {\n",
       "                        nbb_cells[i].set_text(nbb_formatted_code);\n",
       "                        break;\n",
       "                    }\n",
       "                }\n",
       "            }, 500);\n",
       "            "
      ],
      "text/plain": [
       "<IPython.core.display.Javascript object>"
      ]
     },
     "metadata": {},
     "output_type": "display_data"
    }
   ],
   "source": [
    "g = GridWorld()\n",
    "V, pol = g.value_iteration(1e-5)"
   ]
  },
  {
   "cell_type": "code",
   "execution_count": 365,
   "metadata": {},
   "outputs": [
    {
     "data": {
      "image/png": "[encoded data removed]",
      "text/plain": [
       "<Figure size 1440x1080 with 1 Axes>"
      ]
     },
     "metadata": {
      "needs_background": "light"
     },
     "output_type": "display_data"
    },
    {
     "data": {
      "application/javascript": [
       "\n",
       "            setTimeout(function() {\n",
       "                var nbb_cell_id = 365;\n",
       "                var nbb_formatted_code = \"g.draw_policy(pol)\";\n",
       "                var nbb_cells = Jupyter.notebook.get_cells();\n",
       "                for (var i = 0; i < nbb_cells.length; ++i) {\n",
       "                    if (nbb_cells[i].input_prompt_number == nbb_cell_id) {\n",
       "                        nbb_cells[i].set_text(nbb_formatted_code);\n",
       "                        break;\n",
       "                    }\n",
       "                }\n",
       "            }, 500);\n",
       "            "
      ],
      "text/plain": [
       "<IPython.core.display.Javascript object>"
      ]
     },
     "metadata": {},
     "output_type": "display_data"
    }
   ],
   "source": [
    "g.draw_policy(pol)"
   ]
  },
  {
   "cell_type": "code",
   "execution_count": 366,
   "metadata": {},
   "outputs": [
    {
     "data": {
      "image/png": "[encoded data removed]",
      "text/plain": [
       "<Figure size 1440x1080 with 1 Axes>"
      ]
     },
     "metadata": {
      "needs_background": "light"
     },
     "output_type": "display_data"
    },
    {
     "data": {
      "application/javascript": [
       "\n",
       "            setTimeout(function() {\n",
       "                var nbb_cell_id = 366;\n",
       "                var nbb_formatted_code = \"g.draw_value_function(V)\";\n",
       "                var nbb_cells = Jupyter.notebook.get_cells();\n",
       "                for (var i = 0; i < nbb_cells.length; ++i) {\n",
       "                    if (nbb_cells[i].input_prompt_number == nbb_cell_id) {\n",
       "                        nbb_cells[i].set_text(nbb_formatted_code);\n",
       "                        break;\n",
       "                    }\n",
       "                }\n",
       "            }, 500);\n",
       "            "
      ],
      "text/plain": [
       "<IPython.core.display.Javascript object>"
      ]
     },
     "metadata": {},
     "output_type": "display_data"
    }
   ],
   "source": [
    "g.draw_value_function(V)"
   ]
  },
  {
   "cell_type": "code",
   "execution_count": null,
   "metadata": {},
   "outputs": [],
   "source": []
  },
  {
   "cell_type": "code",
   "execution_count": 50,
   "metadata": {},
   "outputs": [
    {
     "data": {
      "text/plain": [
       "array([[4, 2, 4, 4],\n",
       "       [4, 4, 1, 4],\n",
       "       [1, 4, 4, 4],\n",
       "       [1, 1, 3, 1]])"
      ]
     },
     "execution_count": 50,
     "metadata": {},
     "output_type": "execute_result"
    },
    {
     "data": {
      "application/javascript": [
       "\n",
       "            setTimeout(function() {\n",
       "                var nbb_cell_id = 50;\n",
       "                var nbb_formatted_code = \"img = g.walls + g.rewarders\\nvec_func(img)\";\n",
       "                var nbb_cells = Jupyter.notebook.get_cells();\n",
       "                for (var i = 0; i < nbb_cells.length; ++i) {\n",
       "                    if (nbb_cells[i].input_prompt_number == nbb_cell_id) {\n",
       "                        nbb_cells[i].set_text(nbb_formatted_code);\n",
       "                        break;\n",
       "                    }\n",
       "                }\n",
       "            }, 500);\n",
       "            "
      ],
      "text/plain": [
       "<IPython.core.display.Javascript object>"
      ]
     },
     "metadata": {},
     "output_type": "display_data"
    }
   ],
   "source": [
    "img = g.walls + g.rewarders\n",
    "vec_func(img)"
   ]
  },
  {
   "cell_type": "code",
   "execution_count": 51,
   "metadata": {},
   "outputs": [
    {
     "data": {
      "application/javascript": [
       "\n",
       "            setTimeout(function() {\n",
       "                var nbb_cell_id = 51;\n",
       "                var nbb_formatted_code = \"def paint_maps(self):\\n    plt.figure(figsize=(15, 15))\\n    plt.subplot(1, 3, 1)\\n    plt.imshow(self.walls)\\n    plt.subplot(1, 3, 2)\\n    plt.imshow(self.absorbers)\\n    plt.subplot(1, 3, 3)\\n    plt.imshow(self.rewarders)\\n    plt.show()\";\n",
       "                var nbb_cells = Jupyter.notebook.get_cells();\n",
       "                for (var i = 0; i < nbb_cells.length; ++i) {\n",
       "                    if (nbb_cells[i].input_prompt_number == nbb_cell_id) {\n",
       "                        nbb_cells[i].set_text(nbb_formatted_code);\n",
       "                        break;\n",
       "                    }\n",
       "                }\n",
       "            }, 500);\n",
       "            "
      ],
      "text/plain": [
       "<IPython.core.display.Javascript object>"
      ]
     },
     "metadata": {},
     "output_type": "display_data"
    }
   ],
   "source": [
    "def paint_maps(self):\n",
    "    plt.figure(figsize=(15, 15))\n",
    "    plt.subplot(1, 3, 1)\n",
    "    plt.imshow(self.walls)\n",
    "    plt.subplot(1, 3, 2)\n",
    "    plt.imshow(self.absorbers)\n",
    "    plt.subplot(1, 3, 3)\n",
    "    plt.imshow(self.rewarders)\n",
    "    plt.show()"
   ]
  },
  {
   "cell_type": "code",
   "execution_count": 52,
   "metadata": {},
   "outputs": [
    {
     "data": {
      "application/javascript": [
       "\n",
       "            setTimeout(function() {\n",
       "                var nbb_cell_id = 52;\n",
       "                var nbb_formatted_code = \"colors = [\\\"#035afc\\\", \\\"#56fc03\\\", \\\"#fc0303\\\", \\\"#fff6a6\\\"]\\nvalues = [1, 2, 3, 4]\\n\\nnorm = mpl.colors.Normalize(vmin=min(values), vmax=max(values))\\nnormed_vals = norm(values)\\n\\ncmap = LinearSegmentedColormap.from_list(\\n    \\\"mypalette\\\", list(zip(normed_vals, colors)), N=1000\\n)\";\n",
       "                var nbb_cells = Jupyter.notebook.get_cells();\n",
       "                for (var i = 0; i < nbb_cells.length; ++i) {\n",
       "                    if (nbb_cells[i].input_prompt_number == nbb_cell_id) {\n",
       "                        nbb_cells[i].set_text(nbb_formatted_code);\n",
       "                        break;\n",
       "                    }\n",
       "                }\n",
       "            }, 500);\n",
       "            "
      ],
      "text/plain": [
       "<IPython.core.display.Javascript object>"
      ]
     },
     "metadata": {},
     "output_type": "display_data"
    }
   ],
   "source": [
    "colors = [\"#035afc\", \"#56fc03\", \"#fc0303\", \"#fff6a6\"]\n",
    "values = [1, 2, 3, 4]\n",
    "\n",
    "norm = mpl.colors.Normalize(vmin=min(values), vmax=max(values))\n",
    "normed_vals = norm(values)\n",
    "\n",
    "cmap = LinearSegmentedColormap.from_list(\n",
    "    \"mypalette\", list(zip(normed_vals, colors)), N=1000\n",
    ")"
   ]
  },
  {
   "cell_type": "code",
   "execution_count": 53,
   "metadata": {},
   "outputs": [
    {
     "data": {
      "text/plain": [
       "<matplotlib.image.AxesImage at 0x7faedb226630>"
      ]
     },
     "execution_count": 53,
     "metadata": {},
     "output_type": "execute_result"
    },
    {
     "data": {
      "image/png": "[encoded data removed]",
      "text/plain": [
       "<Figure size 432x288 with 1 Axes>"
      ]
     },
     "metadata": {
      "needs_background": "light"
     },
     "output_type": "display_data"
    },
    {
     "data": {
      "application/javascript": [
       "\n",
       "            setTimeout(function() {\n",
       "                var nbb_cell_id = 53;\n",
       "                var nbb_formatted_code = \"plt.imshow(vec_func(img), cmap=cmap)\";\n",
       "                var nbb_cells = Jupyter.notebook.get_cells();\n",
       "                for (var i = 0; i < nbb_cells.length; ++i) {\n",
       "                    if (nbb_cells[i].input_prompt_number == nbb_cell_id) {\n",
       "                        nbb_cells[i].set_text(nbb_formatted_code);\n",
       "                        break;\n",
       "                    }\n",
       "                }\n",
       "            }, 500);\n",
       "            "
      ],
      "text/plain": [
       "<IPython.core.display.Javascript object>"
      ]
     },
     "metadata": {},
     "output_type": "display_data"
    }
   ],
   "source": [
    "plt.imshow(vec_func(img), cmap=cmap)"
   ]
  },
  {
   "cell_type": "code",
   "execution_count": null,
   "metadata": {},
   "outputs": [],
   "source": []
  },
  {
   "cell_type": "code",
   "execution_count": null,
   "metadata": {},
   "outputs": [],
   "source": []
  }
 ],
 "metadata": {
  "kernelspec": {
   "display_name": "Python 3",
   "language": "python",
   "name": "python3"
  },
  "language_info": {
   "codemirror_mode": {
    "name": "ipython",
    "version": 3
   },
   "file_extension": ".py",
   "mimetype": "text/x-python",
   "name": "python",
   "nbconvert_exporter": "python",
   "pygments_lexer": "ipython3",
   "version": "3.6.8"
  }
 },
 "nbformat": 4,
 "nbformat_minor": 2
}
